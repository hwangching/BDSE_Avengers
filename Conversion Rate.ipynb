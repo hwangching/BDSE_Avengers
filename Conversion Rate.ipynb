{
 "cells": [
  {
   "cell_type": "code",
   "execution_count": null,
   "metadata": {},
   "outputs": [],
   "source": [
    "import pandas as pd\n",
    "import numpy as np\n",
    "import seaborn as sns\n",
    "import matplotlib.pyplot as plt"
   ]
  },
  {
   "cell_type": "code",
   "execution_count": null,
   "metadata": {},
   "outputs": [],
   "source": [
    "deal = pd.read_csv('deal_new.csv')\n",
    "deal.head(2)"
   ]
  },
  {
   "cell_type": "code",
   "execution_count": null,
   "metadata": {
    "scrolled": true
   },
   "outputs": [],
   "source": [
    "order = pd.read_csv('order.csv',index_col=None)\n",
    "order.head(2)"
   ]
  },
  {
   "cell_type": "code",
   "execution_count": null,
   "metadata": {},
   "outputs": [],
   "source": [
    "data = pd.merge(order,deal,how='left',on=['business_hour_guid'])\n",
    "data"
   ]
  },
  {
   "cell_type": "code",
   "execution_count": null,
   "metadata": {},
   "outputs": [],
   "source": [
    "#計算商品銷量\n",
    "data['sold_unit'] = data['subtotal'] / data['item_price']"
   ]
  },
  {
   "cell_type": "code",
   "execution_count": null,
   "metadata": {},
   "outputs": [],
   "source": [
    "#將時間由object轉換成datetime型別，並將年月轉換成數字\n",
    "data['create_time'] = pd.to_datetime(data['create_time'])\n",
    "data['year'] = data['create_time'].dt.year\n",
    "data['month'] = data['create_time'].dt.month"
   ]
  },
  {
   "cell_type": "code",
   "execution_count": null,
   "metadata": {},
   "outputs": [],
   "source": [
    "#篩選出2019年4月份的資料\n",
    "apr_data = data[(data['year']==2019) & (data['month']==4)]"
   ]
  },
  {
   "cell_type": "code",
   "execution_count": null,
   "metadata": {},
   "outputs": [],
   "source": [
    "#計算各商品4月份的總銷量\n",
    "total_sold = apr_data.groupby(['business_hour_guid','code'],as_index=False)['sold_unit'].sum()"
   ]
  },
  {
   "cell_type": "code",
   "execution_count": null,
   "metadata": {},
   "outputs": [],
   "source": [
    "#讀取各商品4月份的總瀏覽次數\n",
    "browsing_data = pd.read_csv('count_time.csv',names=['business_hour_guid','times'])\n",
    "browsing_data.head()"
   ]
  },
  {
   "cell_type": "code",
   "execution_count": null,
   "metadata": {
    "scrolled": true
   },
   "outputs": [],
   "source": [
    "ROI = pd.merge(total_sold,browsing_data,how='left',on=['business_hour_guid'])"
   ]
  },
  {
   "cell_type": "code",
   "execution_count": null,
   "metadata": {},
   "outputs": [],
   "source": [
    "#讀取Google的商品分類資料\n",
    "google = pd.read_excel('google_category.xls')\n",
    "google.head(2)"
   ]
  },
  {
   "cell_type": "code",
   "execution_count": null,
   "metadata": {},
   "outputs": [],
   "source": [
    "google_cat = google.rename(columns={'id':'code','level1':'category'})\n",
    "google_cat.head(2)"
   ]
  },
  {
   "cell_type": "code",
   "execution_count": null,
   "metadata": {
    "scrolled": true
   },
   "outputs": [],
   "source": [
    "cate_ROI = pd.merge(ROI,google_cat,how='left',on=['code'])\n",
    "cate_ROI.head(2)"
   ]
  },
  {
   "cell_type": "code",
   "execution_count": null,
   "metadata": {},
   "outputs": [],
   "source": [
    "#依Google類別計算出各類別商品的平均瀏覽次數及平均銷量\n",
    "result=cate_ROI.groupby(['category'],as_index=False)['times','sold_unit'].mean()"
   ]
  },
  {
   "cell_type": "code",
   "execution_count": null,
   "metadata": {},
   "outputs": [],
   "source": [
    "#計算出各類別商品的轉換率\n",
    "result['percentage']= ((result['sold_unit']/result['times'])*100).round(0)\n",
    "result"
   ]
  },
  {
   "cell_type": "code",
   "execution_count": null,
   "metadata": {},
   "outputs": [],
   "source": [
    "fig = plt.figure(figsize=(48, 36))\n",
    "ax1 = sns.lmplot(data=result,x='times', y='sold_unit',hue='category')\n",
    "ax1.set(xlim=(0,2000))\n",
    "ax1.set(ylim=(0,350))\n",
    "plt.xlabel('Browsing Times')\n",
    "plt.ylabel('Sold Unit')\n",
    "plt.title('Browsing History Analysis')\n",
    "plt.show()"
   ]
  },
  {
   "cell_type": "code",
   "execution_count": null,
   "metadata": {},
   "outputs": [],
   "source": [
    "ax1.savefig('lmplot.jpg',dpi=300)"
   ]
  },
  {
   "cell_type": "code",
   "execution_count": null,
   "metadata": {},
   "outputs": [],
   "source": [
    "fig = plt.figure(figsize=(48, 36))\n",
    "splot=sns.barplot(data=result,x='category',y='percentage')\n",
    "plt.xlabel('Category')\n",
    "plt.ylabel('Sold Percentage')\n",
    "plt.title('Conversion Rate')"
   ]
  },
  {
   "cell_type": "code",
   "execution_count": null,
   "metadata": {},
   "outputs": [],
   "source": [
    "fig.savefig('barplot.jpg',dpi=300)"
   ]
  }
 ],
 "metadata": {
  "kernelspec": {
   "display_name": "Python 3",
   "language": "python",
   "name": "python3"
  },
  "language_info": {
   "codemirror_mode": {
    "name": "ipython",
    "version": 3
   },
   "file_extension": ".py",
   "mimetype": "text/x-python",
   "name": "python",
   "nbconvert_exporter": "python",
   "pygments_lexer": "ipython3",
   "version": "3.7.3"
  }
 },
 "nbformat": 4,
 "nbformat_minor": 2
}
