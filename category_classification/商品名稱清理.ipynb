{
 "cells": [
  {
   "cell_type": "code",
   "execution_count": 2,
   "metadata": {},
   "outputs": [
    {
     "name": "stdout",
     "output_type": "stream",
     "text": [
      "【訊息】目前的工作目錄: D:\\Mypython\n"
     ]
    }
   ],
   "source": [
    "# -*- coding: utf-8 -*-\n",
    "import os\n",
    "import pandas as pd\n",
    "import numpy as np\n",
    "import join\n",
    "\n",
    "print(\"【訊息】目前的工作目錄:\",os.getcwd())"
   ]
  },
  {
   "cell_type": "code",
   "execution_count": 38,
   "metadata": {},
   "outputs": [
    {
     "data": {
      "text/html": [
       "<div>\n",
       "<style scoped>\n",
       "    .dataframe tbody tr th:only-of-type {\n",
       "        vertical-align: middle;\n",
       "    }\n",
       "\n",
       "    .dataframe tbody tr th {\n",
       "        vertical-align: top;\n",
       "    }\n",
       "\n",
       "    .dataframe thead th {\n",
       "        text-align: right;\n",
       "    }\n",
       "</style>\n",
       "<table border=\"1\" class=\"dataframe\">\n",
       "  <thead>\n",
       "    <tr style=\"text-align: right;\">\n",
       "      <th></th>\n",
       "      <th>標籤</th>\n",
       "      <th>商品名稱</th>\n",
       "      <th>商品子分類名稱</th>\n",
       "      <th>Google子分類代號</th>\n",
       "    </tr>\n",
       "    <tr>\n",
       "      <th>id</th>\n",
       "      <th></th>\n",
       "      <th></th>\n",
       "      <th></th>\n",
       "      <th></th>\n",
       "    </tr>\n",
       "  </thead>\n",
       "  <tbody>\n",
       "    <tr>\n",
       "      <th>1</th>\n",
       "      <td>水波動/神奇健康熱魔敷濕熱帶/熱魔敷/濕熱帶/健康</td>\n",
       "      <td>神奇健康熱魔敷濕熱帶</td>\n",
       "      <td>腰包臂包臂套護具</td>\n",
       "      <td>990</td>\n",
       "    </tr>\n",
       "    <tr>\n",
       "      <th>2</th>\n",
       "      <td>COOLFCA 自發熱保暖足貼/COOLFCA/自發熱/足貼/保暖/暖暖包</td>\n",
       "      <td>COOLFCA自發熱保暖足貼</td>\n",
       "      <td>腰包臂包臂套護具</td>\n",
       "      <td>990</td>\n",
       "    </tr>\n",
       "    <tr>\n",
       "      <th>3</th>\n",
       "      <td>7Power/舒緩磁力貼/磁力貼/舒緩</td>\n",
       "      <td>緩磁力貼系列商品</td>\n",
       "      <td>腰包臂包臂套護具</td>\n",
       "      <td>990</td>\n",
       "    </tr>\n",
       "    <tr>\n",
       "      <th>4</th>\n",
       "      <td>7Power/醫療級/專業/護具/保護/運動/舒緩</td>\n",
       "      <td>醫療級專業護具系列</td>\n",
       "      <td>腰包臂包臂套護具</td>\n",
       "      <td>990</td>\n",
       "    </tr>\n",
       "    <tr>\n",
       "      <th>5</th>\n",
       "      <td>章魚/小丸子ˋ/跳蛋/情趣用品</td>\n",
       "      <td>章魚小丸子</td>\n",
       "      <td>腰包臂包臂套護具</td>\n",
       "      <td>990</td>\n",
       "    </tr>\n",
       "  </tbody>\n",
       "</table>\n",
       "</div>"
      ],
      "text/plain": [
       "                                       標籤            商品名稱   商品子分類名稱  \\\n",
       "id                                                                    \n",
       "1               水波動/神奇健康熱魔敷濕熱帶/熱魔敷/濕熱帶/健康      神奇健康熱魔敷濕熱帶  腰包臂包臂套護具   \n",
       "2   COOLFCA 自發熱保暖足貼/COOLFCA/自發熱/足貼/保暖/暖暖包  COOLFCA自發熱保暖足貼  腰包臂包臂套護具   \n",
       "3                     7Power/舒緩磁力貼/磁力貼/舒緩        緩磁力貼系列商品  腰包臂包臂套護具   \n",
       "4               7Power/醫療級/專業/護具/保護/運動/舒緩       醫療級專業護具系列  腰包臂包臂套護具   \n",
       "5                         章魚/小丸子ˋ/跳蛋/情趣用品           章魚小丸子  腰包臂包臂套護具   \n",
       "\n",
       "    Google子分類代號  \n",
       "id               \n",
       "1           990  \n",
       "2           990  \n",
       "3           990  \n",
       "4           990  \n",
       "5           990  "
      ]
     },
     "execution_count": 38,
     "metadata": {},
     "output_type": "execute_result"
    }
   ],
   "source": [
    "datafile=pd.read_excel(r'D:\\Mypython\\專題\\deal.xlsx', sep=',', index_col=0, header=0)\n",
    "datafile.head()"
   ]
  },
  {
   "cell_type": "markdown",
   "metadata": {},
   "source": [
    "### 商品名稱 處理"
   ]
  },
  {
   "cell_type": "code",
   "execution_count": 39,
   "metadata": {},
   "outputs": [
    {
     "data": {
      "text/plain": [
       "'神奇健康熱魔敷濕熱帶'"
      ]
     },
     "execution_count": 39,
     "metadata": {},
     "output_type": "execute_result"
    }
   ],
   "source": [
    "datafile.loc[1,'商品名稱']"
   ]
  },
  {
   "cell_type": "code",
   "execution_count": 40,
   "metadata": {},
   "outputs": [
    {
     "data": {
      "text/plain": [
       "1427"
      ]
     },
     "execution_count": 40,
     "metadata": {},
     "output_type": "execute_result"
    }
   ],
   "source": [
    "len(datafile)"
   ]
  },
  {
   "cell_type": "code",
   "execution_count": 41,
   "metadata": {},
   "outputs": [],
   "source": [
    "name = []\n",
    "for i in range(1,len(datafile)+1):\n",
    "    if (datafile.loc[i,'商品名稱'].find(\"【\")) >= 0 :\n",
    "        if (''.join(datafile.loc[i,'商品名稱'].split(\"】\")[-1]).strip()) == \"\" :\n",
    "            name.append(''.join(datafile.loc[i,'商品名稱'].split(\"】\")[-2]).strip())\n",
    "        else :\n",
    "            name.append(''.join(datafile.loc[i,'商品名稱'].split(\"】\")[-1]).strip())\n",
    "    else :\n",
    "        name.append(''.join(datafile.loc[i,'商品名稱']).strip())"
   ]
  },
  {
   "cell_type": "code",
   "execution_count": 42,
   "metadata": {},
   "outputs": [],
   "source": [
    "name2 = []\n",
    "for i in name :\n",
    "    name2.append(i.replace('=','').replace('-','').\n",
    "                 replace('(','').replace(')','').\n",
    "                 replace('+','').replace('【','').\n",
    "                 replace('/','').replace('\\\\','').\n",
    "                 replace('!','').replace('，','').\n",
    "                 replace('#','').replace('_','').\n",
    "                 replace(';','').replace(':','').replace(' ',''))"
   ]
  },
  {
   "cell_type": "code",
   "execution_count": 43,
   "metadata": {},
   "outputs": [],
   "source": [
    "name2\n",
    "name2 = np.array(name2,dtype=\"str\")"
   ]
  },
  {
   "cell_type": "code",
   "execution_count": 44,
   "metadata": {},
   "outputs": [
    {
     "data": {
      "text/plain": [
       "1427"
      ]
     },
     "execution_count": 44,
     "metadata": {},
     "output_type": "execute_result"
    }
   ],
   "source": [
    "len(name2)"
   ]
  },
  {
   "cell_type": "code",
   "execution_count": 45,
   "metadata": {},
   "outputs": [
    {
     "data": {
      "text/plain": [
       "'304不鏽鋼免釘鑽質感肥皂架牙刷架'"
      ]
     },
     "execution_count": 45,
     "metadata": {},
     "output_type": "execute_result"
    }
   ],
   "source": [
    "name2[464]"
   ]
  },
  {
   "cell_type": "code",
   "execution_count": 46,
   "metadata": {},
   "outputs": [],
   "source": [
    "pd.DataFrame(name2).to_csv(r\"D:\\MyPython\\專題\\商品名稱.csv\", encoding='utf_8_sig')"
   ]
  },
  {
   "cell_type": "markdown",
   "metadata": {},
   "source": [
    "### 商品子分類名稱 處理"
   ]
  },
  {
   "cell_type": "code",
   "execution_count": 34,
   "metadata": {},
   "outputs": [
    {
     "data": {
      "text/plain": [
       "'腰包臂包臂套護具'"
      ]
     },
     "execution_count": 34,
     "metadata": {},
     "output_type": "execute_result"
    }
   ],
   "source": [
    "datafile.loc[1,'商品子分類名稱'].replace('/','')"
   ]
  },
  {
   "cell_type": "code",
   "execution_count": 35,
   "metadata": {},
   "outputs": [],
   "source": [
    "name3 = []\n",
    "for i in range(1,len(datafile)+1):\n",
    "    name3.append(datafile.loc[i,'商品子分類名稱'].replace('/',''))"
   ]
  },
  {
   "cell_type": "code",
   "execution_count": 36,
   "metadata": {},
   "outputs": [],
   "source": [
    "name3\n",
    "name3 = np.array(name3,dtype=\"str\")"
   ]
  },
  {
   "cell_type": "code",
   "execution_count": 37,
   "metadata": {},
   "outputs": [],
   "source": [
    "pd.DataFrame(name3).to_csv(r\"D:\\MyPython\\專題\\商品子分類名稱.csv\", encoding='utf_8_sig')"
   ]
  },
  {
   "cell_type": "markdown",
   "metadata": {},
   "source": [
    "### 商品名稱+商品子分類"
   ]
  },
  {
   "cell_type": "code",
   "execution_count": 3,
   "metadata": {},
   "outputs": [
    {
     "data": {
      "text/html": [
       "<div>\n",
       "<style scoped>\n",
       "    .dataframe tbody tr th:only-of-type {\n",
       "        vertical-align: middle;\n",
       "    }\n",
       "\n",
       "    .dataframe tbody tr th {\n",
       "        vertical-align: top;\n",
       "    }\n",
       "\n",
       "    .dataframe thead th {\n",
       "        text-align: right;\n",
       "    }\n",
       "</style>\n",
       "<table border=\"1\" class=\"dataframe\">\n",
       "  <thead>\n",
       "    <tr style=\"text-align: right;\">\n",
       "      <th></th>\n",
       "      <th>標籤</th>\n",
       "      <th>商品名稱</th>\n",
       "      <th>商品子分類名稱</th>\n",
       "      <th>Google子分類代號</th>\n",
       "    </tr>\n",
       "    <tr>\n",
       "      <th>id</th>\n",
       "      <th></th>\n",
       "      <th></th>\n",
       "      <th></th>\n",
       "      <th></th>\n",
       "    </tr>\n",
       "  </thead>\n",
       "  <tbody>\n",
       "    <tr>\n",
       "      <th>1</th>\n",
       "      <td>水波動/神奇健康熱魔敷濕熱帶/熱魔敷/濕熱帶/健康</td>\n",
       "      <td>神奇健康熱魔敷濕熱帶</td>\n",
       "      <td>腰包臂包臂套護具</td>\n",
       "      <td>990</td>\n",
       "    </tr>\n",
       "    <tr>\n",
       "      <th>2</th>\n",
       "      <td>COOLFCA 自發熱保暖足貼/COOLFCA/自發熱/足貼/保暖/暖暖包</td>\n",
       "      <td>COOLFCA自發熱保暖足貼</td>\n",
       "      <td>腰包臂包臂套護具</td>\n",
       "      <td>990</td>\n",
       "    </tr>\n",
       "    <tr>\n",
       "      <th>3</th>\n",
       "      <td>7Power/舒緩磁力貼/磁力貼/舒緩</td>\n",
       "      <td>緩磁力貼系列商品</td>\n",
       "      <td>腰包臂包臂套護具</td>\n",
       "      <td>990</td>\n",
       "    </tr>\n",
       "    <tr>\n",
       "      <th>4</th>\n",
       "      <td>7Power/醫療級/專業/護具/保護/運動/舒緩</td>\n",
       "      <td>醫療級專業護具系列</td>\n",
       "      <td>腰包臂包臂套護具</td>\n",
       "      <td>990</td>\n",
       "    </tr>\n",
       "    <tr>\n",
       "      <th>5</th>\n",
       "      <td>章魚/小丸子ˋ/跳蛋/情趣用品</td>\n",
       "      <td>章魚小丸子</td>\n",
       "      <td>腰包臂包臂套護具</td>\n",
       "      <td>990</td>\n",
       "    </tr>\n",
       "  </tbody>\n",
       "</table>\n",
       "</div>"
      ],
      "text/plain": [
       "                                       標籤            商品名稱   商品子分類名稱  \\\n",
       "id                                                                    \n",
       "1               水波動/神奇健康熱魔敷濕熱帶/熱魔敷/濕熱帶/健康      神奇健康熱魔敷濕熱帶  腰包臂包臂套護具   \n",
       "2   COOLFCA 自發熱保暖足貼/COOLFCA/自發熱/足貼/保暖/暖暖包  COOLFCA自發熱保暖足貼  腰包臂包臂套護具   \n",
       "3                     7Power/舒緩磁力貼/磁力貼/舒緩        緩磁力貼系列商品  腰包臂包臂套護具   \n",
       "4               7Power/醫療級/專業/護具/保護/運動/舒緩       醫療級專業護具系列  腰包臂包臂套護具   \n",
       "5                         章魚/小丸子ˋ/跳蛋/情趣用品           章魚小丸子  腰包臂包臂套護具   \n",
       "\n",
       "    Google子分類代號  \n",
       "id               \n",
       "1           990  \n",
       "2           990  \n",
       "3           990  \n",
       "4           990  \n",
       "5           990  "
      ]
     },
     "execution_count": 3,
     "metadata": {},
     "output_type": "execute_result"
    }
   ],
   "source": [
    "datafile=pd.read_excel(r'D:\\Mypython\\專題\\deal.xlsx', sep=',', index_col=0, header=0)\n",
    "datafile.head()"
   ]
  },
  {
   "cell_type": "code",
   "execution_count": 7,
   "metadata": {},
   "outputs": [
    {
     "name": "stdout",
     "output_type": "stream",
     "text": [
      "1427\n",
      "1427\n"
     ]
    }
   ],
   "source": [
    "name4 = []\n",
    "name5 = []\n",
    "for i in range(1,len(datafile)+1):\n",
    "    name4.append(datafile.loc[i,'商品名稱'])\n",
    "    name5.append(datafile.loc[i,'商品子分類名稱'])\n",
    "print(len(name4))\n",
    "print(len(name5))"
   ]
  },
  {
   "cell_type": "code",
   "execution_count": 10,
   "metadata": {},
   "outputs": [],
   "source": [
    "nameall = [] \n",
    "for i in range(0,len(name4)):\n",
    "    nameall.append(name4[i]+name5[i])\n",
    "nameall = np.array(nameall,dtype=\"str\")"
   ]
  },
  {
   "cell_type": "code",
   "execution_count": 11,
   "metadata": {},
   "outputs": [],
   "source": [
    "pd.DataFrame(nameall).to_csv(r\"D:\\MyPython\\專題\\總和.csv\", encoding='utf_8_sig')"
   ]
  }
 ],
 "metadata": {
  "kernelspec": {
   "display_name": "Python 3",
   "language": "python",
   "name": "python3"
  },
  "language_info": {
   "codemirror_mode": {
    "name": "ipython",
    "version": 3
   },
   "file_extension": ".py",
   "mimetype": "text/x-python",
   "name": "python",
   "nbconvert_exporter": "python",
   "pygments_lexer": "ipython3",
   "version": "3.7.1"
  }
 },
 "nbformat": 4,
 "nbformat_minor": 2
}
