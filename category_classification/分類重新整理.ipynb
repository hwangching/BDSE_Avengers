{
 "cells": [
  {
   "cell_type": "code",
   "execution_count": 3,
   "metadata": {},
   "outputs": [
    {
     "name": "stdout",
     "output_type": "stream",
     "text": [
      "【訊息】目前的工作目錄: /workspace/Randy/17life\n"
     ]
    }
   ],
   "source": [
    "# -*- coding: utf-8 -*-\n",
    "import os\n",
    "import pandas as pd\n",
    "import numpy as np\n",
    "import join\n",
    "import csv\n",
    "import sys\n",
    "import jieba\n",
    "import jieba.posseg as pseg\n",
    "import re\n",
    "import jieba.analyse\n",
    "from sklearn.feature_extraction.text import TfidfVectorizer, CountVectorizer\n",
    "from sklearn.decomposition import LatentDirichletAllocation\n",
    "print(\"【訊息】目前的工作目錄:\",os.getcwd())\n",
    "import math"
   ]
  },
  {
   "cell_type": "code",
   "execution_count": 120,
   "metadata": {},
   "outputs": [],
   "source": [
    "csv.field_size_limit(int(sys.maxsize/10000000000))\n",
    "df=pd.read_csv('./data/deal_final_0605', sep=',', engine='python', encoding='utf-8-sig')"
   ]
  },
  {
   "cell_type": "markdown",
   "metadata": {},
   "source": [
    "刪除nan的itemName行數 並重置索引"
   ]
  },
  {
   "cell_type": "code",
   "execution_count": 107,
   "metadata": {},
   "outputs": [],
   "source": [
    "# nanList = list(df['item_name'][df['item_name'].isnull()].index)\n",
    "# df = df.drop(df.index[nanList])\n",
    "# df['item_name'][df['item_name'].isnull()]\n",
    "# df = df.reset_index()"
   ]
  },
  {
   "cell_type": "code",
   "execution_count": 121,
   "metadata": {},
   "outputs": [],
   "source": [
    "itemName = df['item_name']\n",
    "symbols = r\"[！!\\-(－（)）.（+/，#_;:=】？?《》|【\\]\\[~★♥~↘]\"\n",
    "tmp = [re.sub(symbols,\" \",str(title)) for title in itemName ]\n",
    "symbols2 = r\"[ \\d]+元|[\\d.]+折[起]?|\\$[ \\d]+\"\n",
    "itemNameC = [re.sub(symbols2,\" \",title) for title in tmp ]"
   ]
  },
  {
   "cell_type": "code",
   "execution_count": 130,
   "metadata": {},
   "outputs": [],
   "source": [
    "itemNameC = itemNameC[:100]"
   ]
  },
  {
   "cell_type": "code",
   "execution_count": 141,
   "metadata": {},
   "outputs": [],
   "source": [
    "itemNameToken = [ list(filter(lambda x:x.word!=\" \",pseg.lcut(i))) for i in itemNameC ]"
   ]
  },
  {
   "cell_type": "code",
   "execution_count": 218,
   "metadata": {},
   "outputs": [],
   "source": [
    "itemNameTokenN =[ list(filter(lambda x:x.flag==\"n\",i)) for i in itemNameToken ]\n",
    "itemNameTokenN = [ list(map(lambda x: x.word,i)) for i in itemNameTokenN ]"
   ]
  },
  {
   "cell_type": "code",
   "execution_count": 219,
   "metadata": {},
   "outputs": [],
   "source": [
    "df_codetest = list(np.int32(df.code[:100]))"
   ]
  },
  {
   "cell_type": "code",
   "execution_count": 238,
   "metadata": {
    "scrolled": true
   },
   "outputs": [],
   "source": [
    "df_codetest= np.array(df_codetest).reshape(-1,1)\n",
    "itemNameTokenN = np.array(itemNameTokenN).reshape(-1,1)\n",
    "tmp = np.concatenate((df_codetest,itemNameTokenN), axis=1)\n",
    "code_token = pd.DataFrame(tmp,columns=['code', 'tokens'])"
   ]
  },
  {
   "cell_type": "code",
   "execution_count": null,
   "metadata": {},
   "outputs": [],
   "source": []
  }
 ],
 "metadata": {
  "kernelspec": {
   "display_name": "Python 3",
   "language": "python",
   "name": "python3"
  },
  "language_info": {
   "codemirror_mode": {
    "name": "ipython",
    "version": 3
   },
   "file_extension": ".py",
   "mimetype": "text/x-python",
   "name": "python",
   "nbconvert_exporter": "python",
   "pygments_lexer": "ipython3",
   "version": "3.6.5"
  }
 },
 "nbformat": 4,
 "nbformat_minor": 2
}
