{
 "cells": [
  {
   "cell_type": "code",
   "execution_count": 9,
   "metadata": {},
   "outputs": [],
   "source": [
    "import requests\n",
    "import pandas as pd\n",
    "import numpy as np\n",
    "import random\n",
    "import time"
   ]
  },
  {
   "cell_type": "code",
   "execution_count": 11,
   "metadata": {},
   "outputs": [
    {
     "name": "stdout",
     "output_type": "stream",
     "text": [
      "{'1': '標籤1:222,機率:0.25233333333333335', '2': '標籤2:536,機率:0.13833333333333334', '3': '標籤3:2082,機率:0.08533333333333333', '4': '標籤4:567,機率:0.06685714285714286', '5': '標籤5:730,機率:0.045'}\n",
      "Wall time: 7min 44s\n"
     ]
    }
   ],
   "source": [
    "%%time\n",
    "url = 'http://127.0.0.1:6667/predict'\n",
    "data = {'text':'iphoneX-智慧型手機'}\n",
    "\n",
    "response = requests.post(url, data=data)\n",
    "print(response.json())"
   ]
  },
  {
   "cell_type": "code",
   "execution_count": 7,
   "metadata": {
    "scrolled": true
   },
   "outputs": [
    {
     "data": {
      "text/plain": [
       "'{\"0\":\"\\\\u6a19\\\\u7c64:222\\\\u6a5f\\\\u7387:0.25233333333333335\",\"1\":\"\\\\u6a19\\\\u7c64:536\\\\u6a5f\\\\u7387:0.13833333333333334\",\"2\":\"\\\\u6a19\\\\u7c64:2082\\\\u6a5f\\\\u7387:0.08533333333333333\",\"3\":\"\\\\u6a19\\\\u7c64:567\\\\u6a5f\\\\u7387:0.06685714285714286\",\"4\":\"\\\\u6a19\\\\u7c64:730\\\\u6a5f\\\\u7387:0.045\"}\\n'"
      ]
     },
     "execution_count": 7,
     "metadata": {},
     "output_type": "execute_result"
    }
   ],
   "source": [
    "response.text"
   ]
  }
 ],
 "metadata": {
  "kernelspec": {
   "display_name": "Python 3",
   "language": "python",
   "name": "python3"
  },
  "language_info": {
   "codemirror_mode": {
    "name": "ipython",
    "version": 3
   },
   "file_extension": ".py",
   "mimetype": "text/x-python",
   "name": "python",
   "nbconvert_exporter": "python",
   "pygments_lexer": "ipython3",
   "version": "3.7.1"
  }
 },
 "nbformat": 4,
 "nbformat_minor": 2
}
