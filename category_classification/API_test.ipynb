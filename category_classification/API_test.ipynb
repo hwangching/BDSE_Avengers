{
 "cells": [
  {
   "cell_type": "code",
   "execution_count": 2,
   "metadata": {},
   "outputs": [],
   "source": [
    "import requests\n",
    "import pandas as pd\n",
    "import numpy as np\n",
    "import random\n",
    "import time"
   ]
  },
  {
   "cell_type": "code",
   "execution_count": 2,
   "metadata": {},
   "outputs": [
    {
     "name": "stdout",
     "output_type": "stream",
     "text": [
      "{'1': '標籤1:222,機率:0.25233333333333335', '2': '標籤2:536,機率:0.13833333333333334', '3': '標籤3:2082,機率:0.08533333333333333', '4': '標籤4:567,機率:0.06685714285714286', '5': '標籤5:730,機率:0.045'}\n",
      "Wall time: 54.2 s\n"
     ]
    }
   ],
   "source": [
    "%%time\n",
    "url = 'http://127.0.0.1:6667/predict'\n",
    "data = {'text':'iphoneX-智慧型手機'}\n",
    "\n",
    "response = requests.post(url, data=data)\n",
    "print(response.json())"
   ]
  },
  {
   "cell_type": "code",
   "execution_count": 3,
   "metadata": {},
   "outputs": [
    {
     "data": {
      "text/plain": [
       "{'1': '標籤:健身與營養,權重:0.19322985605196835',\n",
       " '2': '標籤:皮膚護理,權重:0.10057416077267689',\n",
       " '3': '標籤:飲料,權重:0.09869757478048155',\n",
       " '4': '標籤:綜合果仁零食,權重:0.05570650630223417',\n",
       " '5': '標籤:零食,權重:0.04817233255603082'}"
      ]
     },
     "execution_count": 3,
     "metadata": {},
     "output_type": "execute_result"
    }
   ],
   "source": [
    "url = 'http://127.0.0.1:6666/predict'\n",
    "data = {'text':'每朝健康青汁超纖素'}\n",
    "\n",
    "response = requests.post(url, data=data)\n",
    "response.json()"
   ]
  },
  {
   "cell_type": "code",
   "execution_count": 4,
   "metadata": {
    "scrolled": true
   },
   "outputs": [
    {
     "data": {
      "text/plain": [
       "'{\"1\":\"\\\\u6a19\\\\u7c641:222,\\\\u6a5f\\\\u7387:0.25233333333333335\",\"2\":\"\\\\u6a19\\\\u7c642:536,\\\\u6a5f\\\\u7387:0.13833333333333334\",\"3\":\"\\\\u6a19\\\\u7c643:2082,\\\\u6a5f\\\\u7387:0.08533333333333333\",\"4\":\"\\\\u6a19\\\\u7c644:567,\\\\u6a5f\\\\u7387:0.06685714285714286\",\"5\":\"\\\\u6a19\\\\u7c645:730,\\\\u6a5f\\\\u7387:0.045\"}\\n'"
      ]
     },
     "execution_count": 4,
     "metadata": {},
     "output_type": "execute_result"
    }
   ],
   "source": [
    "response.text"
   ]
  }
 ],
 "metadata": {
  "kernelspec": {
   "display_name": "Python 3",
   "language": "python",
   "name": "python3"
  },
  "language_info": {
   "codemirror_mode": {
    "name": "ipython",
    "version": 3
   },
   "file_extension": ".py",
   "mimetype": "text/x-python",
   "name": "python",
   "nbconvert_exporter": "python",
   "pygments_lexer": "ipython3",
   "version": "3.7.1"
  }
 },
 "nbformat": 4,
 "nbformat_minor": 2
}
