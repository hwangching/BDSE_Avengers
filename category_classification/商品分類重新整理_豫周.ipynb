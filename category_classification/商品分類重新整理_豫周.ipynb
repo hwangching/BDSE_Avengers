{
 "cells": [
  {
   "cell_type": "code",
   "execution_count": 1,
   "metadata": {},
   "outputs": [
    {
     "name": "stdout",
     "output_type": "stream",
     "text": [
      "【訊息】目前的工作目錄: /workspace/backup\n"
     ]
    }
   ],
   "source": [
    "# -*- coding: utf-8 -*-\n",
    "import os\n",
    "import pandas as pd\n",
    "import numpy as np\n",
    "import join\n",
    "import csv\n",
    "import sys\n",
    "import jieba\n",
    "import jieba.posseg as pseg\n",
    "import re\n",
    "import jieba.analyse\n",
    "from sklearn.feature_extraction.text import TfidfVectorizer, CountVectorizer\n",
    "from sklearn.decomposition import LatentDirichletAllocation\n",
    "print(\"【訊息】目前的工作目錄:\",os.getcwd())\n",
    "import math\n"
   ]
  },
  {
   "cell_type": "code",
   "execution_count": 2,
   "metadata": {},
   "outputs": [],
   "source": [
    "csv.field_size_limit(int(sys.maxsize/10000000000))\n",
    "df=pd.read_csv('./data/deal_final_0605', sep=',', engine='python', encoding='utf-8-sig')"
   ]
  },
  {
   "cell_type": "markdown",
   "metadata": {},
   "source": [
    "利用正規表示法清理不必要的符號"
   ]
  },
  {
   "cell_type": "code",
   "execution_count": 3,
   "metadata": {},
   "outputs": [],
   "source": [
    "itemName = df['item_name']\n",
    "symbols = r\"[！!\\-(－（)）.（+/，#_;:=】？?《》|【\\]\\[~★♥~↘]\"\n",
    "tmp = [re.sub(symbols,\" \",str(title)) for title in itemName ]\n",
    "symbols2 = r\"[ \\d]+元|[\\d.]+折[起]?|\\$[ \\d]+\"\n",
    "itemNameC = [re.sub(symbols2,\" \",title) for title in tmp ]"
   ]
  },
  {
   "cell_type": "markdown",
   "metadata": {},
   "source": [
    "利用Jieba套件對標題欄位進行斷詞"
   ]
  },
  {
   "cell_type": "code",
   "execution_count": null,
   "metadata": {},
   "outputs": [],
   "source": [
    "itemNameTokenN = [ list(filter(lambda x: x!='' ,jieba.lcut(i))) for i in itemNameC ]\n",
    "itemNameTokenN = [ list(filter(lambda x: x!=' ' ,i) ) for i in itemNameTokenN ]\n",
    "itemNameTokenN"
   ]
  },
  {
   "cell_type": "markdown",
   "metadata": {},
   "source": [
    "將斷詞結果與code統整成DataFrame"
   ]
  },
  {
   "cell_type": "code",
   "execution_count": 8,
   "metadata": {},
   "outputs": [],
   "source": [
    "df_codetest = df.code.fillna(0)\n",
    "df_codetest = np.int64(list(df_codetest))"
   ]
  },
  {
   "cell_type": "code",
   "execution_count": 9,
   "metadata": {},
   "outputs": [],
   "source": [
    "df_codetest= np.array(df_codetest).reshape(-1,1)\n",
    "itemNameTokenN = np.array(itemNameTokenN).reshape(-1,1)\n",
    "tmp = np.concatenate((df_codetest,itemNameTokenN), axis=1)\n",
    "code_token = pd.DataFrame(tmp,columns=['code', 'tokens'])\n",
    "code_token.code = np.int64(code_token.code)"
   ]
  },
  {
   "cell_type": "code",
   "execution_count": 10,
   "metadata": {},
   "outputs": [
    {
     "data": {
      "text/plain": [
       "array([0, 1, 2, ..., 0, 0, 0])"
      ]
     },
     "execution_count": 10,
     "metadata": {},
     "output_type": "execute_result"
    }
   ],
   "source": [
    "code2level_series = pd.read_csv(\"./data/code2level_series\")\n",
    "code2level_series = np.array(code2level_series).reshape(-1)\n",
    "code2level_series"
   ]
  },
  {
   "cell_type": "code",
   "execution_count": 11,
   "metadata": {},
   "outputs": [
    {
     "data": {
      "text/html": [
       "<div>\n",
       "<style scoped>\n",
       "    .dataframe tbody tr th:only-of-type {\n",
       "        vertical-align: middle;\n",
       "    }\n",
       "\n",
       "    .dataframe tbody tr th {\n",
       "        vertical-align: top;\n",
       "    }\n",
       "\n",
       "    .dataframe thead th {\n",
       "        text-align: right;\n",
       "    }\n",
       "</style>\n",
       "<table border=\"1\" class=\"dataframe\">\n",
       "  <thead>\n",
       "    <tr style=\"text-align: right;\">\n",
       "      <th></th>\n",
       "      <th>code</th>\n",
       "      <th>tokens</th>\n",
       "      <th>level</th>\n",
       "    </tr>\n",
       "  </thead>\n",
       "  <tbody>\n",
       "    <tr>\n",
       "      <th>45</th>\n",
       "      <td>166</td>\n",
       "      <td>[SUPERGA, 義, 大利, 國民經典, 男女, 款休, 閒鞋, 1, 雙]</td>\n",
       "      <td>1</td>\n",
       "    </tr>\n",
       "    <tr>\n",
       "      <th>46</th>\n",
       "      <td>166</td>\n",
       "      <td>[SUPERGA, 義, 大利, 國民經典, 男女, 款休, 閒鞋, 3, 雙]</td>\n",
       "      <td>1</td>\n",
       "    </tr>\n",
       "    <tr>\n",
       "      <th>47</th>\n",
       "      <td>536</td>\n",
       "      <td>[MIT, 醫療級, 三層, 防護, 口罩, 久筑]</td>\n",
       "      <td>1</td>\n",
       "    </tr>\n",
       "    <tr>\n",
       "      <th>48</th>\n",
       "      <td>1011</td>\n",
       "      <td>[COMFY, air, Sofa, 最新, 正版, 10, 秒, 快充, 便利, 戶外, ...</td>\n",
       "      <td>2</td>\n",
       "    </tr>\n",
       "    <tr>\n",
       "      <th>49</th>\n",
       "      <td>1011</td>\n",
       "      <td>[COMFY, air, Sofa, 最新, 正版, 10, 秒, 快充, 便利, 戶外, ...</td>\n",
       "      <td>2</td>\n",
       "    </tr>\n",
       "  </tbody>\n",
       "</table>\n",
       "</div>"
      ],
      "text/plain": [
       "    code                                             tokens  level\n",
       "45   166           [SUPERGA, 義, 大利, 國民經典, 男女, 款休, 閒鞋, 1, 雙]      1\n",
       "46   166           [SUPERGA, 義, 大利, 國民經典, 男女, 款休, 閒鞋, 3, 雙]      1\n",
       "47   536                         [MIT, 醫療級, 三層, 防護, 口罩, 久筑]      1\n",
       "48  1011  [COMFY, air, Sofa, 最新, 正版, 10, 秒, 快充, 便利, 戶外, ...      2\n",
       "49  1011  [COMFY, air, Sofa, 最新, 正版, 10, 秒, 快充, 便利, 戶外, ...      2"
      ]
     },
     "execution_count": 11,
     "metadata": {},
     "output_type": "execute_result"
    }
   ],
   "source": [
    "code_token = code_token.assign(level= 0)\n",
    "for i in range(len(code_token)):\n",
    "    level = code2level_series[code_token['code'][i]]\n",
    "    code_token.loc[i,'level'] = level\n",
    "code_token.loc[45:49,:]"
   ]
  },
  {
   "cell_type": "code",
   "execution_count": 12,
   "metadata": {},
   "outputs": [],
   "source": [
    "# code_token = pd.read_csv(\"./data/code_token_201906131152\",converters={'tokens': eval})"
   ]
  },
  {
   "cell_type": "markdown",
   "metadata": {},
   "source": [
    "對code,level進行groupby前，先將code為0的列清除"
   ]
  },
  {
   "cell_type": "code",
   "execution_count": 13,
   "metadata": {},
   "outputs": [
    {
     "name": "stdout",
     "output_type": "stream",
     "text": [
      "(546216, 3)\n",
      "(534746, 3)\n"
     ]
    }
   ],
   "source": [
    "# code_token.code==0\n",
    "print(code_token.shape)\n",
    "tmp = pd.Series(range(len(code_token)))\n",
    "tmp = list(tmp[code_token.code==0])\n",
    "code_token_drop0 =code_token.drop(tmp)\n",
    "code_token_drop0 = code_token_drop0.reset_index(drop=True)\n",
    "print(code_token_drop0.shape)"
   ]
  },
  {
   "cell_type": "code",
   "execution_count": 14,
   "metadata": {},
   "outputs": [
    {
     "data": {
      "text/plain": [
       "['aibo', '領導者', '立體聲', '智慧', '藍牙耳機', '麥克風', '系列', '8', '入', '方案']"
      ]
     },
     "execution_count": 14,
     "metadata": {},
     "output_type": "execute_result"
    }
   ],
   "source": [
    "code_token.tokens[4]"
   ]
  },
  {
   "cell_type": "markdown",
   "metadata": {},
   "source": [
    "將相同code,level的商品聚集在一起，彙整關鍵字"
   ]
  },
  {
   "cell_type": "code",
   "execution_count": 15,
   "metadata": {},
   "outputs": [
    {
     "data": {
      "text/plain": [
       "level  code\n",
       "1      166     [SUPERGA, 義, 大利, 國民經典, 男女, 款休, 閒鞋, 2, 雙, SUPER...\n",
       "       222     [aibo, 領導者, 立體聲, 智慧, 藍牙耳機, 麥克風, 系列, 2, 入, 方案, ...\n",
       "       436     [RICHOME, 理想, 生活, 無段, 式, 休閒, 躺椅, 瑞比大, 蝴蝶, 腰, 枕...\n",
       "       536     [THERMOS, 膳, 魔師, 超輕量, 不, 鏽, 鋼, 真空, 保溫杯, 保溫, 瓶,...\n",
       "       537     [美姬心, MGC, 醫美級, 私密, 保養, 噴霧, 2, 入, 贈萌, 萌貓, 零錢, ...\n",
       "dtype: object"
      ]
     },
     "execution_count": 15,
     "metadata": {},
     "output_type": "execute_result"
    }
   ],
   "source": [
    "code_tokenGy = code_token_drop0.groupby(['level','code']).apply(lambda x : np.concatenate(np.array(x.tokens)))\n",
    "code_tokenGy.iloc[:5]"
   ]
  },
  {
   "cell_type": "code",
   "execution_count": null,
   "metadata": {},
   "outputs": [],
   "source": [
    "計算重複關鍵字的數量"
   ]
  },
  {
   "cell_type": "code",
   "execution_count": 16,
   "metadata": {},
   "outputs": [
    {
     "data": {
      "text/plain": [
       "level  code\n",
       "1      166     {'SUPERGA': 28, '義': 109, '大利': 114, '國民經典': 1...\n",
       "       222     {'aibo': 391, '領導者': 40, '立體聲': 91, '智慧': 1480...\n",
       "       436     {'RICHOME': 180, '理想': 21, '生活': 222, '無段': 10...\n",
       "       536     {'THERMOS': 676, '膳': 828, '魔師': 833, '超輕量': 3...\n",
       "       537     {'美姬心': 4, 'MGC': 2, '醫美級': 3, '私密': 3, '保養': ...\n",
       "dtype: object"
      ]
     },
     "execution_count": 16,
     "metadata": {},
     "output_type": "execute_result"
    }
   ],
   "source": [
    "from collections import Counter\n",
    "code_tokenGyCount = pd.Series([Counter(x) for x in code_tokenGy],index=code_tokenGy.index)\n",
    "code_tokenGyCount.iloc[:5]"
   ]
  },
  {
   "cell_type": "markdown",
   "metadata": {},
   "source": [
    "將文字結果數字化，以加速運算"
   ]
  },
  {
   "cell_type": "code",
   "execution_count": 17,
   "metadata": {},
   "outputs": [],
   "source": [
    "from gensim.corpora.dictionary import Dictionary\n",
    "dictionary = Dictionary(list(code_tokenGyCount))"
   ]
  },
  {
   "cell_type": "code",
   "execution_count": 18,
   "metadata": {},
   "outputs": [
    {
     "data": {
      "text/plain": [
       "level  code\n",
       "1      166     [(0, 1), (1, 1), (2, 1), (3, 1), (4, 1), (5, 1...\n",
       "       222     [(1, 1), (2, 1), (3, 1), (4, 1), (14, 1), (15,...\n",
       "       436     [(1, 1), (3, 1), (14, 1), (15, 1), (17, 1), (2...\n",
       "       536     [(0, 1), (1, 1), (2, 1), (3, 1), (4, 1), (14, ...\n",
       "       537     [(14, 1), (15, 1), (61, 1), (62, 1), (97, 1), ...\n",
       "dtype: object"
      ]
     },
     "execution_count": 18,
     "metadata": {},
     "output_type": "execute_result"
    }
   ],
   "source": [
    "code_tokenGybow = pd.Series([dictionary.doc2bow(x) for x in code_tokenGyCount],index=code_tokenGyCount.index)\n",
    "code_tokenGybow.iloc[:5]"
   ]
  },
  {
   "cell_type": "markdown",
   "metadata": {},
   "source": [
    "進行Tfidf計算"
   ]
  },
  {
   "cell_type": "code",
   "execution_count": 19,
   "metadata": {},
   "outputs": [
    {
     "data": {
      "text/plain": [
       "level  code\n",
       "1      166     [(0, 0.009348754548710753), (1, 0.004221339032...\n",
       "       222     [(1, 0.0042836341692605836), (2, 0.00543793136...\n",
       "       436     [(1, 0.010058174585060815), (3, 0.008382318589...\n",
       "       536     [(0, 0.0063977134842708155), (1, 0.00288882519...\n",
       "       537     [(14, 0.0014761038413572088), (15, 0.023058064...\n",
       "dtype: object"
      ]
     },
     "execution_count": 19,
     "metadata": {},
     "output_type": "execute_result"
    }
   ],
   "source": [
    "from gensim.models.tfidfmodel import TfidfModel\n",
    "tfidf = TfidfModel(code_tokenGybow)\n",
    "code_tokenGyTfidf = pd.Series(tfidf[code_tokenGybow],index=code_tokenGybow.index)\n",
    "code_tokenGyTfidf.iloc[:5]"
   ]
  },
  {
   "cell_type": "markdown",
   "metadata": {},
   "source": [
    "排序Tfidf結果，並且取權重排名50%以上的關鍵字"
   ]
  },
  {
   "cell_type": "code",
   "execution_count": 20,
   "metadata": {},
   "outputs": [
    {
     "data": {
      "text/plain": [
       "level  code\n",
       "1      166     [(5, 0.013681923351486094), (6, 0.013681923351...\n",
       "       222     [(7626, 0.013883830204885834), (7627, 0.013883...\n",
       "       436     [(13989, 0.032599886589798885), (13992, 0.0325...\n",
       "       536     [(14985, 0.009363068102866561), (14986, 0.0093...\n",
       "       537     [(26687, 0.25958677325077517), (26689, 0.25958...\n",
       "dtype: object"
      ]
     },
     "execution_count": 20,
     "metadata": {},
     "output_type": "execute_result"
    }
   ],
   "source": [
    "code_tokenGyTfidfSort = pd.Series(map( lambda x: sorted(x,key=lambda w: w[1],reverse=True),code_tokenGyTfidf),index=code_tokenGyTfidf.index)\n",
    "code_tokenGyTfidfSort.iloc[:5]"
   ]
  },
  {
   "cell_type": "code",
   "execution_count": 21,
   "metadata": {},
   "outputs": [
    {
     "data": {
      "text/plain": [
       "level  code\n",
       "1      166     [(5, 0.013681923351486094), (6, 0.013681923351...\n",
       "       222     [(7626, 0.013883830204885834), (7627, 0.013883...\n",
       "       436     [(13989, 0.032599886589798885), (13992, 0.0325...\n",
       "       536     [(14985, 0.009363068102866561), (14986, 0.0093...\n",
       "       537     [(26687, 0.25958677325077517), (26689, 0.25958...\n",
       "dtype: object"
      ]
     },
     "execution_count": 21,
     "metadata": {},
     "output_type": "execute_result"
    }
   ],
   "source": [
    "code_tokenGyTfidfSort2 = pd.Series(map( lambda x: x[:len(x)//2],code_tokenGyTfidfSort),index=code_tokenGyTfidfSort.index)\n",
    "code_tokenGyTfidfSort2[:5]"
   ]
  },
  {
   "cell_type": "code",
   "execution_count": 22,
   "metadata": {},
   "outputs": [
    {
     "data": {
      "text/plain": [
       "level  code\n",
       "1      166     [5, 6, 7, 8, 9, 10, 11, 12, 13, 25, 26, 30, 31...\n",
       "       222     [7626, 7627, 7628, 7630, 7632, 7633, 7634, 763...\n",
       "       436     [13989, 13992, 13994, 13995, 13996, 13998, 139...\n",
       "       536     [14985, 14986, 14988, 14991, 14994, 14995, 149...\n",
       "       537     [26687, 26689, 26691, 26692, 26693, 26690, 266...\n",
       "dtype: object"
      ]
     },
     "execution_count": 22,
     "metadata": {},
     "output_type": "execute_result"
    }
   ],
   "source": [
    "code_tokenGyTfidfSort3 = pd.Series(map( lambda x: list(map( lambda y: y[0]  ,x)),code_tokenGyTfidfSort),index=code_tokenGyTfidfSort.index)\n",
    "code_tokenGyTfidfSort3[:5]"
   ]
  },
  {
   "cell_type": "code",
   "execution_count": 23,
   "metadata": {},
   "outputs": [
    {
     "data": {
      "text/plain": [
       "code\n",
       "181    [64988, 2634, 4348, 1011, 2704, 7537, 4612, 64...\n",
       "209    [64990, 64991, 64992, 64993, 64994, 64995, 649...\n",
       "214    [65047, 65048, 65050, 65051, 65052, 65053, 650...\n",
       "215    [65080, 65081, 65082, 65083, 65084, 65085, 650...\n",
       "230    [65108, 65110, 45771, 46467, 58222, 65109, 911...\n",
       "dtype: object"
      ]
     },
     "execution_count": 23,
     "metadata": {},
     "output_type": "execute_result"
    }
   ],
   "source": [
    "code_tokenGyTfidfSort3[4][:5]"
   ]
  },
  {
   "cell_type": "markdown",
   "metadata": {},
   "source": [
    "將code 商品名稱的tokens level newCode 建立新Dataframe"
   ]
  },
  {
   "cell_type": "code",
   "execution_count": null,
   "metadata": {},
   "outputs": [],
   "source": [
    "code_token_new = code_token.assign(newCode= 0)\n",
    "print(code_token_new.shape)\n",
    "code_token_new.iloc[:5,:]"
   ]
  },
  {
   "cell_type": "markdown",
   "metadata": {},
   "source": [
    "Counter計算詞數"
   ]
  },
  {
   "cell_type": "code",
   "execution_count": 25,
   "metadata": {},
   "outputs": [
    {
     "data": {
      "text/html": [
       "<div>\n",
       "<style scoped>\n",
       "    .dataframe tbody tr th:only-of-type {\n",
       "        vertical-align: middle;\n",
       "    }\n",
       "\n",
       "    .dataframe tbody tr th {\n",
       "        vertical-align: top;\n",
       "    }\n",
       "\n",
       "    .dataframe thead th {\n",
       "        text-align: right;\n",
       "    }\n",
       "</style>\n",
       "<table border=\"1\" class=\"dataframe\">\n",
       "  <thead>\n",
       "    <tr style=\"text-align: right;\">\n",
       "      <th></th>\n",
       "      <th>code</th>\n",
       "      <th>tokens</th>\n",
       "      <th>level</th>\n",
       "      <th>newCode</th>\n",
       "    </tr>\n",
       "  </thead>\n",
       "  <tbody>\n",
       "    <tr>\n",
       "      <th>0</th>\n",
       "      <td>5821</td>\n",
       "      <td>{'柯絲妃': 1, '兒胎': 1, '盤素': 1, '肌因': 1, '賦活': 1,...</td>\n",
       "      <td>4</td>\n",
       "      <td>0</td>\n",
       "    </tr>\n",
       "    <tr>\n",
       "      <th>1</th>\n",
       "      <td>222</td>\n",
       "      <td>{'aibo': 1, '領導者': 1, '立體聲': 1, '智慧': 1, '藍牙耳機...</td>\n",
       "      <td>1</td>\n",
       "      <td>0</td>\n",
       "    </tr>\n",
       "    <tr>\n",
       "      <th>2</th>\n",
       "      <td>222</td>\n",
       "      <td>{'aibo': 1, '領導者': 1, '立體聲': 1, '智慧': 1, '藍牙耳機...</td>\n",
       "      <td>1</td>\n",
       "      <td>0</td>\n",
       "    </tr>\n",
       "    <tr>\n",
       "      <th>3</th>\n",
       "      <td>222</td>\n",
       "      <td>{'aibo': 1, '領導者': 1, '立體聲': 1, '智慧': 1, '藍牙耳機...</td>\n",
       "      <td>1</td>\n",
       "      <td>0</td>\n",
       "    </tr>\n",
       "    <tr>\n",
       "      <th>4</th>\n",
       "      <td>222</td>\n",
       "      <td>{'aibo': 1, '領導者': 1, '立體聲': 1, '智慧': 1, '藍牙耳機...</td>\n",
       "      <td>1</td>\n",
       "      <td>0</td>\n",
       "    </tr>\n",
       "  </tbody>\n",
       "</table>\n",
       "</div>"
      ],
      "text/plain": [
       "   code                                             tokens  level  newCode\n",
       "0  5821  {'柯絲妃': 1, '兒胎': 1, '盤素': 1, '肌因': 1, '賦活': 1,...      4        0\n",
       "1   222  {'aibo': 1, '領導者': 1, '立體聲': 1, '智慧': 1, '藍牙耳機...      1        0\n",
       "2   222  {'aibo': 1, '領導者': 1, '立體聲': 1, '智慧': 1, '藍牙耳機...      1        0\n",
       "3   222  {'aibo': 1, '領導者': 1, '立體聲': 1, '智慧': 1, '藍牙耳機...      1        0\n",
       "4   222  {'aibo': 1, '領導者': 1, '立體聲': 1, '智慧': 1, '藍牙耳機...      1        0"
      ]
     },
     "execution_count": 25,
     "metadata": {},
     "output_type": "execute_result"
    }
   ],
   "source": [
    "code_token_new.tokens = pd.Series([Counter(x) for x in code_token.tokens])\n",
    "code_token_new.iloc[:5,:]"
   ]
  },
  {
   "cell_type": "markdown",
   "metadata": {},
   "source": [
    "數字化關鍵字"
   ]
  },
  {
   "cell_type": "code",
   "execution_count": 26,
   "metadata": {},
   "outputs": [
    {
     "data": {
      "text/html": [
       "<div>\n",
       "<style scoped>\n",
       "    .dataframe tbody tr th:only-of-type {\n",
       "        vertical-align: middle;\n",
       "    }\n",
       "\n",
       "    .dataframe tbody tr th {\n",
       "        vertical-align: top;\n",
       "    }\n",
       "\n",
       "    .dataframe thead th {\n",
       "        text-align: right;\n",
       "    }\n",
       "</style>\n",
       "<table border=\"1\" class=\"dataframe\">\n",
       "  <thead>\n",
       "    <tr style=\"text-align: right;\">\n",
       "      <th></th>\n",
       "      <th>code</th>\n",
       "      <th>tokens</th>\n",
       "      <th>level</th>\n",
       "      <th>newCode</th>\n",
       "    </tr>\n",
       "  </thead>\n",
       "  <tbody>\n",
       "    <tr>\n",
       "      <th>0</th>\n",
       "      <td>5821</td>\n",
       "      <td>[(15, 1), (1667, 1), (6545, 1), (47241, 1), (4...</td>\n",
       "      <td>4</td>\n",
       "      <td>0</td>\n",
       "    </tr>\n",
       "    <tr>\n",
       "      <th>1</th>\n",
       "      <td>222</td>\n",
       "      <td>[(61, 1), (1667, 1), (3692, 1), (3806, 1), (52...</td>\n",
       "      <td>1</td>\n",
       "      <td>0</td>\n",
       "    </tr>\n",
       "    <tr>\n",
       "      <th>2</th>\n",
       "      <td>222</td>\n",
       "      <td>[(133, 1), (1667, 1), (3692, 1), (3806, 1), (5...</td>\n",
       "      <td>1</td>\n",
       "      <td>0</td>\n",
       "    </tr>\n",
       "    <tr>\n",
       "      <th>3</th>\n",
       "      <td>222</td>\n",
       "      <td>[(14, 1), (1667, 1), (3692, 1), (3806, 1), (52...</td>\n",
       "      <td>1</td>\n",
       "      <td>0</td>\n",
       "    </tr>\n",
       "    <tr>\n",
       "      <th>4</th>\n",
       "      <td>222</td>\n",
       "      <td>[(190, 1), (1667, 1), (3692, 1), (3806, 1), (5...</td>\n",
       "      <td>1</td>\n",
       "      <td>0</td>\n",
       "    </tr>\n",
       "  </tbody>\n",
       "</table>\n",
       "</div>"
      ],
      "text/plain": [
       "   code                                             tokens  level  newCode\n",
       "0  5821  [(15, 1), (1667, 1), (6545, 1), (47241, 1), (4...      4        0\n",
       "1   222  [(61, 1), (1667, 1), (3692, 1), (3806, 1), (52...      1        0\n",
       "2   222  [(133, 1), (1667, 1), (3692, 1), (3806, 1), (5...      1        0\n",
       "3   222  [(14, 1), (1667, 1), (3692, 1), (3806, 1), (52...      1        0\n",
       "4   222  [(190, 1), (1667, 1), (3692, 1), (3806, 1), (5...      1        0"
      ]
     },
     "execution_count": 26,
     "metadata": {},
     "output_type": "execute_result"
    }
   ],
   "source": [
    "code_token_new.tokens = pd.Series([dictionary.doc2bow(x) for x in code_token_new.tokens])\n",
    "code_token_new.iloc[:5,:]"
   ]
  },
  {
   "cell_type": "code",
   "execution_count": 27,
   "metadata": {},
   "outputs": [
    {
     "data": {
      "text/html": [
       "<div>\n",
       "<style scoped>\n",
       "    .dataframe tbody tr th:only-of-type {\n",
       "        vertical-align: middle;\n",
       "    }\n",
       "\n",
       "    .dataframe tbody tr th {\n",
       "        vertical-align: top;\n",
       "    }\n",
       "\n",
       "    .dataframe thead th {\n",
       "        text-align: right;\n",
       "    }\n",
       "</style>\n",
       "<table border=\"1\" class=\"dataframe\">\n",
       "  <thead>\n",
       "    <tr style=\"text-align: right;\">\n",
       "      <th></th>\n",
       "      <th>code</th>\n",
       "      <th>tokens</th>\n",
       "      <th>level</th>\n",
       "      <th>newCode</th>\n",
       "    </tr>\n",
       "  </thead>\n",
       "  <tbody>\n",
       "    <tr>\n",
       "      <th>0</th>\n",
       "      <td>5821</td>\n",
       "      <td>[15, 1667, 6545, 47241, 47492, 65824, 68045, 7...</td>\n",
       "      <td>4</td>\n",
       "      <td>0</td>\n",
       "    </tr>\n",
       "    <tr>\n",
       "      <th>1</th>\n",
       "      <td>222</td>\n",
       "      <td>[61, 1667, 3692, 3806, 5229, 10358, 12629, 129...</td>\n",
       "      <td>1</td>\n",
       "      <td>0</td>\n",
       "    </tr>\n",
       "    <tr>\n",
       "      <th>2</th>\n",
       "      <td>222</td>\n",
       "      <td>[133, 1667, 3692, 3806, 5229, 10358, 12629, 12...</td>\n",
       "      <td>1</td>\n",
       "      <td>0</td>\n",
       "    </tr>\n",
       "    <tr>\n",
       "      <th>3</th>\n",
       "      <td>222</td>\n",
       "      <td>[14, 1667, 3692, 3806, 5229, 10358, 12629, 129...</td>\n",
       "      <td>1</td>\n",
       "      <td>0</td>\n",
       "    </tr>\n",
       "    <tr>\n",
       "      <th>4</th>\n",
       "      <td>222</td>\n",
       "      <td>[190, 1667, 3692, 3806, 5229, 10358, 12629, 12...</td>\n",
       "      <td>1</td>\n",
       "      <td>0</td>\n",
       "    </tr>\n",
       "  </tbody>\n",
       "</table>\n",
       "</div>"
      ],
      "text/plain": [
       "   code                                             tokens  level  newCode\n",
       "0  5821  [15, 1667, 6545, 47241, 47492, 65824, 68045, 7...      4        0\n",
       "1   222  [61, 1667, 3692, 3806, 5229, 10358, 12629, 129...      1        0\n",
       "2   222  [133, 1667, 3692, 3806, 5229, 10358, 12629, 12...      1        0\n",
       "3   222  [14, 1667, 3692, 3806, 5229, 10358, 12629, 129...      1        0\n",
       "4   222  [190, 1667, 3692, 3806, 5229, 10358, 12629, 12...      1        0"
      ]
     },
     "execution_count": 27,
     "metadata": {},
     "output_type": "execute_result"
    }
   ],
   "source": [
    "code_token_new.tokens = pd.Series(map( lambda x: list(map( lambda y: y[0]  ,x)),code_token_new.tokens))\n",
    "code_token_new.iloc[:5,:]"
   ]
  },
  {
   "cell_type": "markdown",
   "metadata": {},
   "source": [
    "找尋合適分類的運算"
   ]
  },
  {
   "cell_type": "code",
   "execution_count": 28,
   "metadata": {},
   "outputs": [],
   "source": [
    "def ifMatchClass(itemTokens,classTokens):\n",
    "    numTok = len(itemTokens)\n",
    "    matchCount = 0\n",
    "    for x in itemTokens:\n",
    "        if x in classTokens:\n",
    "            matchCount += 1\n",
    "    if matchCount > numTok//2:\n",
    "        return True\n",
    "    else:\n",
    "        return False"
   ]
  },
  {
   "cell_type": "code",
   "execution_count": null,
   "metadata": {},
   "outputs": [],
   "source": [
    "%%time\n",
    "matchClass = 6\n",
    "checklevel = 3\n",
    "\n",
    "newCode = np.zeros(len(code_token_new), dtype=np.int64)\n",
    "for idxItem, row in code_token_new.iterrows():\n",
    "    if row.level <= checklevel:\n",
    "        itemTokens = row.tokens\n",
    "        index = code_tokenGyTfidfSort3[matchClass].index\n",
    "        for idxClass, x in enumerate(code_tokenGyTfidfSort3[matchClass]):\n",
    "            if ifMatchClass(itemTokens,x):\n",
    "                code_token_new.loc[idxItem,\"newCode\"]=index[idxClass]"
   ]
  },
  {
   "cell_type": "code",
   "execution_count": null,
   "metadata": {},
   "outputs": [],
   "source": [
    "%%time\n",
    "matchClass = 5\n",
    "checklevel = 3\n",
    "\n",
    "newCode = np.zeros(len(code_token_new), dtype=np.int64)\n",
    "for idxItem, row in code_token_new.iterrows():\n",
    "    if row.level <= checklevel:\n",
    "        itemTokens = row.tokens\n",
    "        index = code_tokenGyTfidfSort3[matchClass].index\n",
    "        for idxClass, x in enumerate(code_tokenGyTfidfSort3[matchClass]):\n",
    "            if ifMatchClass(itemTokens,x):\n",
    "                code_token_new.loc[idxItem,\"newCode\"]=index[idxClass]"
   ]
  },
  {
   "cell_type": "code",
   "execution_count": null,
   "metadata": {},
   "outputs": [],
   "source": [
    "%%time\n",
    "matchClass = 4\n",
    "checklevel = 3\n",
    "\n",
    "newCode = np.zeros(len(code_token_new), dtype=np.int64)\n",
    "for idxItem, row in code_token_new.iterrows():\n",
    "    if row.level <= checklevel:\n",
    "        itemTokens = row.tokens\n",
    "        index = code_tokenGyTfidfSort3[matchClass].index\n",
    "        for idxClass, x in enumerate(code_tokenGyTfidfSort3[matchClass]):\n",
    "            if ifMatchClass(itemTokens,x):\n",
    "                code_token_new.loc[idxItem,\"newCode\"]=index[idxClass]"
   ]
  },
  {
   "cell_type": "code",
   "execution_count": null,
   "metadata": {},
   "outputs": [],
   "source": []
  }
 ],
 "metadata": {
  "kernelspec": {
   "display_name": "Python 3",
   "language": "python",
   "name": "python3"
  },
  "language_info": {
   "codemirror_mode": {
    "name": "ipython",
    "version": 3
   },
   "file_extension": ".py",
   "mimetype": "text/x-python",
   "name": "python",
   "nbconvert_exporter": "python",
   "pygments_lexer": "ipython3",
   "version": "3.6.8"
  }
 },
 "nbformat": 4,
 "nbformat_minor": 2
}
