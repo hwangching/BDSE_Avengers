{
 "cells": [
  {
   "cell_type": "code",
   "execution_count": 13,
   "metadata": {},
   "outputs": [],
   "source": [
    "import pandas as pd\n",
    "import numpy as np\n",
    "import matplotlib.pyplot as plt\n",
    "%matplotlib inline\n",
    "import seaborn as sns\n",
    "sns.set()\n",
    "import re\n",
    "pd.options.display.max_columns = 100\n"
   ]
  },
  {
   "cell_type": "code",
   "execution_count": 20,
   "metadata": {},
   "outputs": [],
   "source": [
    "discount_code = pd.read_csv(\"discount_code(371mb;4Mrows)_0522v1.csv\")\n",
    "order_ori =pd.read_csv(\"order.csv\")\n",
    "deal=pd.read_csv(\"deal.csv\")"
   ]
  },
  {
   "cell_type": "markdown",
   "metadata": {},
   "source": [
    "### 整理與合併表格"
   ]
  },
  {
   "cell_type": "code",
   "execution_count": 21,
   "metadata": {},
   "outputs": [],
   "source": [
    "dfOri=pd.merge(order_ori,deal,how='left',on=['business_hour_guid','seller_GUID'])"
   ]
  },
  {
   "cell_type": "code",
   "execution_count": 22,
   "metadata": {},
   "outputs": [],
   "source": [
    "dfOri = dfOri[['business_hour_guid','user_id']]  #選取需要的欄位"
   ]
  },
  {
   "cell_type": "code",
   "execution_count": 23,
   "metadata": {},
   "outputs": [],
   "source": [
    "discount_code = discount_code.rename(columns={'use_id': 'user_id'}) #修改欄位名稱\n",
    "discount_code = discount_code.drop(columns=['order_guid','id','use_amount', 'order_amount','order_cost', 'send_date','cancel_time','owner']) #刪除多餘欄位"
   ]
  },
  {
   "cell_type": "code",
   "execution_count": 46,
   "metadata": {},
   "outputs": [],
   "source": [
    "dfOridt=pd.merge(dfOri,discount_code,how='left',on=['user_id'])"
   ]
  },
  {
   "cell_type": "code",
   "execution_count": 47,
   "metadata": {},
   "outputs": [
    {
     "data": {
      "text/plain": [
       "<matplotlib.axes._subplots.AxesSubplot at 0x205840aee48>"
      ]
     },
     "execution_count": 47,
     "metadata": {},
     "output_type": "execute_result"
    },
    {
     "data": {
      "image/png": "[encoded data removed]",
      "text/plain": [
       "<Figure size 432x288 with 1 Axes>"
      ]
     },
     "metadata": {},
     "output_type": "display_data"
    }
   ],
   "source": [
    "dfOridt.isnull().sum().plot(kind='bar',title='number of missing values') # 檢查空值"
   ]
  },
  {
   "cell_type": "code",
   "execution_count": 25,
   "metadata": {},
   "outputs": [],
   "source": [
    "dfOridt = dfOridt.drop(columns=['user_id'])  "
   ]
  },
  {
   "cell_type": "code",
   "execution_count": 26,
   "metadata": {},
   "outputs": [],
   "source": [
    "dfOridt = dfOridt.fillna(0) #補空值"
   ]
  },
  {
   "cell_type": "markdown",
   "metadata": {},
   "source": [
    "### 以數值1代表優惠,0代表無優惠 - 方法一"
   ]
  },
  {
   "cell_type": "code",
   "execution_count": 28,
   "metadata": {},
   "outputs": [
    {
     "name": "stderr",
     "output_type": "stream",
     "text": [
      "C:\\Users\\yscys\\Anaconda3\\lib\\site-packages\\ipykernel_launcher.py:1: SettingWithCopyWarning: \n",
      "A value is trying to be set on a copy of a slice from a DataFrame\n",
      "\n",
      "See the caveats in the documentation: http://pandas.pydata.org/pandas-docs/stable/indexing.html#indexing-view-versus-copy\n",
      "  \"\"\"Entry point for launching an IPython kernel.\n"
     ]
    }
   ],
   "source": [
    "dfOridt.campaign_id[dfOridt[\"campaign_id\"]>0]=1"
   ]
  },
  {
   "cell_type": "markdown",
   "metadata": {},
   "source": [
    "### 以數值1代表優惠,0代表無優惠 - 方法二"
   ]
  },
  {
   "cell_type": "code",
   "execution_count": 33,
   "metadata": {},
   "outputs": [],
   "source": [
    "def trans(x):\n",
    "    if x > 0:\n",
    "        return 1\n",
    "    else:\n",
    "        return 0"
   ]
  },
  {
   "cell_type": "code",
   "execution_count": 34,
   "metadata": {},
   "outputs": [],
   "source": [
    "dfOridt[\"discount\"]=dfOridt[\"campaign_id\"].apply(trans)"
   ]
  },
  {
   "cell_type": "markdown",
   "metadata": {},
   "source": [
    "### 查看各檔次優惠情況"
   ]
  },
  {
   "cell_type": "code",
   "execution_count": 35,
   "metadata": {},
   "outputs": [
    {
     "data": {
      "text/plain": [
       "business_hour_guid\n",
       "00000793-A001-4C8C-9196-3E6971181246       0.0\n",
       "00001911-C3DF-4143-BC25-8AA5FA1A9AF4       7.0\n",
       "00001928-AE75-4AA9-8A47-4BDE96D08C2D      31.0\n",
       "00004599-A7B5-404C-AC84-8AA030B18D3E       8.0\n",
       "0000E985-1260-4A96-8A1B-9E899FB0E340      12.0\n",
       "0001181C-4B32-476B-9191-B4062B828DF0       2.0\n",
       "00011FEF-02D8-42D7-9D4D-CE41AE478DA0      63.0\n",
       "00014918-A6D8-4DB1-B191-56B4AFB2F879     221.0\n",
       "0001BD2F-F107-4CF4-A31B-FE2683003ECB      28.0\n",
       "00026231-055A-4EBC-9DAF-509FB78C8130       9.0\n",
       "00027282-5A15-4917-9478-C771BA3D0017       5.0\n",
       "0002F1CB-7B7D-41AA-A3B8-75AF041C287F      17.0\n",
       "00030A11-34C0-4078-8261-01625408FD41    2324.0\n",
       "000320A0-5FD9-40AE-9A90-6AFC0862C414       1.0\n",
       "0003D611-BFB5-4B74-92FE-AAEC64250ED8     154.0\n",
       "0003ECA9-9F6A-4E28-8AB7-76F0162263DC      59.0\n",
       "00047226-460C-43C0-B4D3-5D3D70859900     190.0\n",
       "00049E2E-3235-4E8A-A9BF-5405B75C750B      27.0\n",
       "0004F0D1-865C-4CF2-A85A-D24DE23B2055     294.0\n",
       "0004FE74-C8DB-4CE3-9DA0-5BBD6F21064B     243.0\n",
       "0005211B-77C1-41BF-80C8-F5612628B392     145.0\n",
       "00052C2E-F4EC-4DAA-AE61-CCA37462C4CA      78.0\n",
       "00052DCF-AC51-4621-9159-321FBD2F5767      16.0\n",
       "00053BFE-54EE-4B31-A1F1-75B853F1593B     186.0\n",
       "00054768-6154-4521-8D53-974E4BC0D475      20.0\n",
       "000567F9-19E0-4CF5-8E18-679C0CF9BD12     107.0\n",
       "00064032-57CA-421D-8D7C-C94D71608F68      19.0\n",
       "00064367-63D5-47BC-A616-A3E2BF7DB445     123.0\n",
       "00067A87-0E72-408B-9479-C643997E8CE8       5.0\n",
       "00068814-45EE-4C2F-BCAA-8CE11E329AB1      53.0\n",
       "                                         ...  \n",
       "FFF8B3C0-D217-4ED2-A496-4011E0D018E6       8.0\n",
       "FFF94AF0-09DE-40BB-8D3A-7FBBFC0CCF90       2.0\n",
       "FFF9A78B-D178-4E31-873B-68B40771A787     661.0\n",
       "FFFA2EE1-5B61-4392-9B78-34EFEC9BA394      37.0\n",
       "FFFAE71B-9476-4199-98B0-AAFB94199C91      32.0\n",
       "FFFB01AD-8DC6-4303-BDDB-71D6A0A0D170       0.0\n",
       "FFFB0F10-62DB-4C44-9282-0A439B01D001      58.0\n",
       "FFFB0FC7-3C72-4B95-8273-EFA788F6C8BC     432.0\n",
       "FFFB181B-BC26-409D-A5BE-8202A82441E6      26.0\n",
       "FFFB1B5A-81B9-4521-A5A4-C7BC0824519B      86.0\n",
       "FFFB3CAD-BA8B-4ED5-A905-DFAAA4E32A62       3.0\n",
       "FFFB764E-4E18-4A6C-A4E3-9B0C0D0E4862      11.0\n",
       "FFFB76BC-A66D-438F-A906-A62A61181C31     239.0\n",
       "FFFB7D00-62EE-4BB4-ADDB-BE9C69AA5D8D       0.0\n",
       "FFFC05DF-29AD-4DE5-ACDA-FC260BFC65B0       5.0\n",
       "FFFC2F31-DE83-45D1-ABB0-6CE449B3E03B      17.0\n",
       "FFFC47EF-CC37-4CFF-8A22-031FD8AF100F      21.0\n",
       "FFFC5224-88F8-4561-A152-D2763EB1B97E       1.0\n",
       "FFFC597C-6173-4A43-83AE-1FF92912F67E       6.0\n",
       "FFFC7A68-0EFA-4898-9302-EFDBC4E0510C     135.0\n",
       "FFFCC048-0269-4276-90A5-225300552869      17.0\n",
       "FFFCE9E3-6FAC-4181-B98F-3184F30E0361       0.0\n",
       "FFFD8998-8296-487B-A6A1-4468729317F1       7.0\n",
       "FFFE3F36-785B-4FA2-881B-C5F89A336A1D      81.0\n",
       "FFFED1F1-2F82-4248-9810-71512E3365C7       0.0\n",
       "FFFF1F5D-902D-40AF-B92E-64474F3D03EF      28.0\n",
       "FFFF341F-5210-4139-A69A-E0A68B7793FE     179.0\n",
       "FFFF6108-1B00-417B-86A2-FFF7D4A6894D       0.0\n",
       "FFFF727A-0C8E-4D20-8E8D-6A8EF668EFA1     276.0\n",
       "FFFF971E-8DD0-47E2-B089-83AF531AC8E0      19.0\n",
       "Name: campaign_id, Length: 269858, dtype: float64"
      ]
     },
     "execution_count": 35,
     "metadata": {},
     "output_type": "execute_result"
    }
   ],
   "source": [
    "dfOridt.groupby('business_hour_guid')['campaign_id'].sum()"
   ]
  },
  {
   "cell_type": "markdown",
   "metadata": {},
   "source": [
    "### 依檔次分組"
   ]
  },
  {
   "cell_type": "code",
   "execution_count": 37,
   "metadata": {},
   "outputs": [],
   "source": [
    "bhg=dfOridt.groupby('business_hour_guid')['campaign_id'].sum().to_frame()"
   ]
  },
  {
   "cell_type": "markdown",
   "metadata": {},
   "source": [
    "### 以數值1代表優惠,0代表無優惠 - 方法一"
   ]
  },
  {
   "cell_type": "code",
   "execution_count": 38,
   "metadata": {},
   "outputs": [],
   "source": [
    "bhg.campaign_id[bhg[\"campaign_id\"]>0]=1"
   ]
  },
  {
   "cell_type": "markdown",
   "metadata": {},
   "source": [
    "### 以數值1代表優惠,0代表無優惠 - 方法二"
   ]
  },
  {
   "cell_type": "code",
   "execution_count": 39,
   "metadata": {},
   "outputs": [],
   "source": [
    "def change(x):\n",
    "    if x > 0:\n",
    "        return 1\n",
    "    else:\n",
    "        return 0"
   ]
  },
  {
   "cell_type": "code",
   "execution_count": 40,
   "metadata": {},
   "outputs": [
    {
     "data": {
      "text/html": [
       "<div>\n",
       "<style scoped>\n",
       "    .dataframe tbody tr th:only-of-type {\n",
       "        vertical-align: middle;\n",
       "    }\n",
       "\n",
       "    .dataframe tbody tr th {\n",
       "        vertical-align: top;\n",
       "    }\n",
       "\n",
       "    .dataframe thead th {\n",
       "        text-align: right;\n",
       "    }\n",
       "</style>\n",
       "<table border=\"1\" class=\"dataframe\">\n",
       "  <thead>\n",
       "    <tr style=\"text-align: right;\">\n",
       "      <th></th>\n",
       "      <th>campaign_id</th>\n",
       "    </tr>\n",
       "    <tr>\n",
       "      <th>business_hour_guid</th>\n",
       "      <th></th>\n",
       "    </tr>\n",
       "  </thead>\n",
       "  <tbody>\n",
       "    <tr>\n",
       "      <th>00000793-A001-4C8C-9196-3E6971181246</th>\n",
       "      <td>0</td>\n",
       "    </tr>\n",
       "    <tr>\n",
       "      <th>00001911-C3DF-4143-BC25-8AA5FA1A9AF4</th>\n",
       "      <td>1</td>\n",
       "    </tr>\n",
       "    <tr>\n",
       "      <th>00001928-AE75-4AA9-8A47-4BDE96D08C2D</th>\n",
       "      <td>1</td>\n",
       "    </tr>\n",
       "    <tr>\n",
       "      <th>00004599-A7B5-404C-AC84-8AA030B18D3E</th>\n",
       "      <td>1</td>\n",
       "    </tr>\n",
       "    <tr>\n",
       "      <th>0000E985-1260-4A96-8A1B-9E899FB0E340</th>\n",
       "      <td>1</td>\n",
       "    </tr>\n",
       "    <tr>\n",
       "      <th>0001181C-4B32-476B-9191-B4062B828DF0</th>\n",
       "      <td>1</td>\n",
       "    </tr>\n",
       "    <tr>\n",
       "      <th>00011FEF-02D8-42D7-9D4D-CE41AE478DA0</th>\n",
       "      <td>1</td>\n",
       "    </tr>\n",
       "    <tr>\n",
       "      <th>00014918-A6D8-4DB1-B191-56B4AFB2F879</th>\n",
       "      <td>1</td>\n",
       "    </tr>\n",
       "    <tr>\n",
       "      <th>0001BD2F-F107-4CF4-A31B-FE2683003ECB</th>\n",
       "      <td>1</td>\n",
       "    </tr>\n",
       "    <tr>\n",
       "      <th>00026231-055A-4EBC-9DAF-509FB78C8130</th>\n",
       "      <td>1</td>\n",
       "    </tr>\n",
       "  </tbody>\n",
       "</table>\n",
       "</div>"
      ],
      "text/plain": [
       "                                      campaign_id\n",
       "business_hour_guid                               \n",
       "00000793-A001-4C8C-9196-3E6971181246            0\n",
       "00001911-C3DF-4143-BC25-8AA5FA1A9AF4            1\n",
       "00001928-AE75-4AA9-8A47-4BDE96D08C2D            1\n",
       "00004599-A7B5-404C-AC84-8AA030B18D3E            1\n",
       "0000E985-1260-4A96-8A1B-9E899FB0E340            1\n",
       "0001181C-4B32-476B-9191-B4062B828DF0            1\n",
       "00011FEF-02D8-42D7-9D4D-CE41AE478DA0            1\n",
       "00014918-A6D8-4DB1-B191-56B4AFB2F879            1\n",
       "0001BD2F-F107-4CF4-A31B-FE2683003ECB            1\n",
       "00026231-055A-4EBC-9DAF-509FB78C8130            1"
      ]
     },
     "execution_count": 40,
     "metadata": {},
     "output_type": "execute_result"
    }
   ],
   "source": [
    "bhg[\"campaign_id\"]=bhg[\"campaign_id\"].apply(change)\n",
    "bhg.head(10)"
   ]
  },
  {
   "cell_type": "code",
   "execution_count": 41,
   "metadata": {},
   "outputs": [],
   "source": [
    "bhg.to_csv('Result.csv')"
   ]
  },
  {
   "cell_type": "code",
   "execution_count": 44,
   "metadata": {},
   "outputs": [
    {
     "data": {
      "text/html": [
       "<div>\n",
       "<style scoped>\n",
       "    .dataframe tbody tr th:only-of-type {\n",
       "        vertical-align: middle;\n",
       "    }\n",
       "\n",
       "    .dataframe tbody tr th {\n",
       "        vertical-align: top;\n",
       "    }\n",
       "\n",
       "    .dataframe thead th {\n",
       "        text-align: right;\n",
       "    }\n",
       "</style>\n",
       "<table border=\"1\" class=\"dataframe\">\n",
       "  <thead>\n",
       "    <tr style=\"text-align: right;\">\n",
       "      <th></th>\n",
       "      <th>business_hour_guid</th>\n",
       "      <th>campaign_id</th>\n",
       "    </tr>\n",
       "  </thead>\n",
       "  <tbody>\n",
       "    <tr>\n",
       "      <th>0</th>\n",
       "      <td>00000793-A001-4C8C-9196-3E6971181246</td>\n",
       "      <td>0</td>\n",
       "    </tr>\n",
       "    <tr>\n",
       "      <th>1</th>\n",
       "      <td>00001911-C3DF-4143-BC25-8AA5FA1A9AF4</td>\n",
       "      <td>1</td>\n",
       "    </tr>\n",
       "    <tr>\n",
       "      <th>2</th>\n",
       "      <td>00001928-AE75-4AA9-8A47-4BDE96D08C2D</td>\n",
       "      <td>1</td>\n",
       "    </tr>\n",
       "    <tr>\n",
       "      <th>3</th>\n",
       "      <td>00004599-A7B5-404C-AC84-8AA030B18D3E</td>\n",
       "      <td>1</td>\n",
       "    </tr>\n",
       "    <tr>\n",
       "      <th>4</th>\n",
       "      <td>0000E985-1260-4A96-8A1B-9E899FB0E340</td>\n",
       "      <td>1</td>\n",
       "    </tr>\n",
       "    <tr>\n",
       "      <th>5</th>\n",
       "      <td>0001181C-4B32-476B-9191-B4062B828DF0</td>\n",
       "      <td>1</td>\n",
       "    </tr>\n",
       "    <tr>\n",
       "      <th>6</th>\n",
       "      <td>00011FEF-02D8-42D7-9D4D-CE41AE478DA0</td>\n",
       "      <td>1</td>\n",
       "    </tr>\n",
       "    <tr>\n",
       "      <th>7</th>\n",
       "      <td>00014918-A6D8-4DB1-B191-56B4AFB2F879</td>\n",
       "      <td>1</td>\n",
       "    </tr>\n",
       "    <tr>\n",
       "      <th>8</th>\n",
       "      <td>0001BD2F-F107-4CF4-A31B-FE2683003ECB</td>\n",
       "      <td>1</td>\n",
       "    </tr>\n",
       "    <tr>\n",
       "      <th>9</th>\n",
       "      <td>00026231-055A-4EBC-9DAF-509FB78C8130</td>\n",
       "      <td>1</td>\n",
       "    </tr>\n",
       "    <tr>\n",
       "      <th>10</th>\n",
       "      <td>00027282-5A15-4917-9478-C771BA3D0017</td>\n",
       "      <td>1</td>\n",
       "    </tr>\n",
       "    <tr>\n",
       "      <th>11</th>\n",
       "      <td>0002F1CB-7B7D-41AA-A3B8-75AF041C287F</td>\n",
       "      <td>1</td>\n",
       "    </tr>\n",
       "    <tr>\n",
       "      <th>12</th>\n",
       "      <td>00030A11-34C0-4078-8261-01625408FD41</td>\n",
       "      <td>1</td>\n",
       "    </tr>\n",
       "    <tr>\n",
       "      <th>13</th>\n",
       "      <td>000320A0-5FD9-40AE-9A90-6AFC0862C414</td>\n",
       "      <td>1</td>\n",
       "    </tr>\n",
       "    <tr>\n",
       "      <th>14</th>\n",
       "      <td>0003D611-BFB5-4B74-92FE-AAEC64250ED8</td>\n",
       "      <td>1</td>\n",
       "    </tr>\n",
       "    <tr>\n",
       "      <th>15</th>\n",
       "      <td>0003ECA9-9F6A-4E28-8AB7-76F0162263DC</td>\n",
       "      <td>1</td>\n",
       "    </tr>\n",
       "    <tr>\n",
       "      <th>16</th>\n",
       "      <td>00047226-460C-43C0-B4D3-5D3D70859900</td>\n",
       "      <td>1</td>\n",
       "    </tr>\n",
       "    <tr>\n",
       "      <th>17</th>\n",
       "      <td>00049E2E-3235-4E8A-A9BF-5405B75C750B</td>\n",
       "      <td>1</td>\n",
       "    </tr>\n",
       "    <tr>\n",
       "      <th>18</th>\n",
       "      <td>0004F0D1-865C-4CF2-A85A-D24DE23B2055</td>\n",
       "      <td>1</td>\n",
       "    </tr>\n",
       "    <tr>\n",
       "      <th>19</th>\n",
       "      <td>0004FE74-C8DB-4CE3-9DA0-5BBD6F21064B</td>\n",
       "      <td>1</td>\n",
       "    </tr>\n",
       "    <tr>\n",
       "      <th>20</th>\n",
       "      <td>0005211B-77C1-41BF-80C8-F5612628B392</td>\n",
       "      <td>1</td>\n",
       "    </tr>\n",
       "    <tr>\n",
       "      <th>21</th>\n",
       "      <td>00052C2E-F4EC-4DAA-AE61-CCA37462C4CA</td>\n",
       "      <td>1</td>\n",
       "    </tr>\n",
       "    <tr>\n",
       "      <th>22</th>\n",
       "      <td>00052DCF-AC51-4621-9159-321FBD2F5767</td>\n",
       "      <td>1</td>\n",
       "    </tr>\n",
       "    <tr>\n",
       "      <th>23</th>\n",
       "      <td>00053BFE-54EE-4B31-A1F1-75B853F1593B</td>\n",
       "      <td>1</td>\n",
       "    </tr>\n",
       "    <tr>\n",
       "      <th>24</th>\n",
       "      <td>00054768-6154-4521-8D53-974E4BC0D475</td>\n",
       "      <td>1</td>\n",
       "    </tr>\n",
       "    <tr>\n",
       "      <th>25</th>\n",
       "      <td>000567F9-19E0-4CF5-8E18-679C0CF9BD12</td>\n",
       "      <td>1</td>\n",
       "    </tr>\n",
       "    <tr>\n",
       "      <th>26</th>\n",
       "      <td>00064032-57CA-421D-8D7C-C94D71608F68</td>\n",
       "      <td>1</td>\n",
       "    </tr>\n",
       "    <tr>\n",
       "      <th>27</th>\n",
       "      <td>00064367-63D5-47BC-A616-A3E2BF7DB445</td>\n",
       "      <td>1</td>\n",
       "    </tr>\n",
       "    <tr>\n",
       "      <th>28</th>\n",
       "      <td>00067A87-0E72-408B-9479-C643997E8CE8</td>\n",
       "      <td>1</td>\n",
       "    </tr>\n",
       "    <tr>\n",
       "      <th>29</th>\n",
       "      <td>00068814-45EE-4C2F-BCAA-8CE11E329AB1</td>\n",
       "      <td>1</td>\n",
       "    </tr>\n",
       "    <tr>\n",
       "      <th>30</th>\n",
       "      <td>0006B72A-6988-46C5-9297-7D58B6E36528</td>\n",
       "      <td>1</td>\n",
       "    </tr>\n",
       "    <tr>\n",
       "      <th>31</th>\n",
       "      <td>0006BFDE-F14C-4C2D-A27F-B4344105062B</td>\n",
       "      <td>1</td>\n",
       "    </tr>\n",
       "    <tr>\n",
       "      <th>32</th>\n",
       "      <td>0006CD74-7A37-4290-993F-1C651691E623</td>\n",
       "      <td>1</td>\n",
       "    </tr>\n",
       "    <tr>\n",
       "      <th>33</th>\n",
       "      <td>00071141-3163-47D8-BD45-22A535E574E3</td>\n",
       "      <td>1</td>\n",
       "    </tr>\n",
       "    <tr>\n",
       "      <th>34</th>\n",
       "      <td>0007137D-C343-4B60-86A2-F2CD431DF381</td>\n",
       "      <td>1</td>\n",
       "    </tr>\n",
       "    <tr>\n",
       "      <th>35</th>\n",
       "      <td>000726B3-585D-46EE-A186-A688E2BB1600</td>\n",
       "      <td>1</td>\n",
       "    </tr>\n",
       "    <tr>\n",
       "      <th>36</th>\n",
       "      <td>00076BFF-0ABE-4652-87A2-F79FC2B1A308</td>\n",
       "      <td>1</td>\n",
       "    </tr>\n",
       "    <tr>\n",
       "      <th>37</th>\n",
       "      <td>0007730B-108C-4A0B-92FC-C5E04E284FB4</td>\n",
       "      <td>1</td>\n",
       "    </tr>\n",
       "    <tr>\n",
       "      <th>38</th>\n",
       "      <td>00080F3F-0359-42C5-AFD2-A22260CAFE4D</td>\n",
       "      <td>1</td>\n",
       "    </tr>\n",
       "    <tr>\n",
       "      <th>39</th>\n",
       "      <td>00081BF2-A675-4C8E-8411-EC37DB712BD3</td>\n",
       "      <td>1</td>\n",
       "    </tr>\n",
       "    <tr>\n",
       "      <th>40</th>\n",
       "      <td>00083062-520A-4934-9DF0-183E6F0CF9BC</td>\n",
       "      <td>1</td>\n",
       "    </tr>\n",
       "    <tr>\n",
       "      <th>41</th>\n",
       "      <td>00083D71-3C15-44F2-9816-362690F81622</td>\n",
       "      <td>1</td>\n",
       "    </tr>\n",
       "    <tr>\n",
       "      <th>42</th>\n",
       "      <td>00088783-D238-494E-B7FE-3CE4F9EA45ED</td>\n",
       "      <td>1</td>\n",
       "    </tr>\n",
       "    <tr>\n",
       "      <th>43</th>\n",
       "      <td>0008D7FC-3BA6-4960-9909-3081FD132EBD</td>\n",
       "      <td>1</td>\n",
       "    </tr>\n",
       "    <tr>\n",
       "      <th>44</th>\n",
       "      <td>00091076-1500-4293-89BF-7A0750C426E5</td>\n",
       "      <td>1</td>\n",
       "    </tr>\n",
       "    <tr>\n",
       "      <th>45</th>\n",
       "      <td>00094B58-1569-4672-8B7D-CF2513DEFF56</td>\n",
       "      <td>1</td>\n",
       "    </tr>\n",
       "    <tr>\n",
       "      <th>46</th>\n",
       "      <td>00095B17-4EB0-4CBF-8006-5AA940D4D9E7</td>\n",
       "      <td>1</td>\n",
       "    </tr>\n",
       "    <tr>\n",
       "      <th>47</th>\n",
       "      <td>00095E08-2A3E-4D29-BADB-DC0849DF01BE</td>\n",
       "      <td>1</td>\n",
       "    </tr>\n",
       "    <tr>\n",
       "      <th>48</th>\n",
       "      <td>000A1FCB-2CFE-41EB-8087-C727ECE58CD3</td>\n",
       "      <td>1</td>\n",
       "    </tr>\n",
       "    <tr>\n",
       "      <th>49</th>\n",
       "      <td>000AF961-F5F2-45F0-987F-B1A01DAF607E</td>\n",
       "      <td>1</td>\n",
       "    </tr>\n",
       "  </tbody>\n",
       "</table>\n",
       "</div>"
      ],
      "text/plain": [
       "                      business_hour_guid  campaign_id\n",
       "0   00000793-A001-4C8C-9196-3E6971181246            0\n",
       "1   00001911-C3DF-4143-BC25-8AA5FA1A9AF4            1\n",
       "2   00001928-AE75-4AA9-8A47-4BDE96D08C2D            1\n",
       "3   00004599-A7B5-404C-AC84-8AA030B18D3E            1\n",
       "4   0000E985-1260-4A96-8A1B-9E899FB0E340            1\n",
       "5   0001181C-4B32-476B-9191-B4062B828DF0            1\n",
       "6   00011FEF-02D8-42D7-9D4D-CE41AE478DA0            1\n",
       "7   00014918-A6D8-4DB1-B191-56B4AFB2F879            1\n",
       "8   0001BD2F-F107-4CF4-A31B-FE2683003ECB            1\n",
       "9   00026231-055A-4EBC-9DAF-509FB78C8130            1\n",
       "10  00027282-5A15-4917-9478-C771BA3D0017            1\n",
       "11  0002F1CB-7B7D-41AA-A3B8-75AF041C287F            1\n",
       "12  00030A11-34C0-4078-8261-01625408FD41            1\n",
       "13  000320A0-5FD9-40AE-9A90-6AFC0862C414            1\n",
       "14  0003D611-BFB5-4B74-92FE-AAEC64250ED8            1\n",
       "15  0003ECA9-9F6A-4E28-8AB7-76F0162263DC            1\n",
       "16  00047226-460C-43C0-B4D3-5D3D70859900            1\n",
       "17  00049E2E-3235-4E8A-A9BF-5405B75C750B            1\n",
       "18  0004F0D1-865C-4CF2-A85A-D24DE23B2055            1\n",
       "19  0004FE74-C8DB-4CE3-9DA0-5BBD6F21064B            1\n",
       "20  0005211B-77C1-41BF-80C8-F5612628B392            1\n",
       "21  00052C2E-F4EC-4DAA-AE61-CCA37462C4CA            1\n",
       "22  00052DCF-AC51-4621-9159-321FBD2F5767            1\n",
       "23  00053BFE-54EE-4B31-A1F1-75B853F1593B            1\n",
       "24  00054768-6154-4521-8D53-974E4BC0D475            1\n",
       "25  000567F9-19E0-4CF5-8E18-679C0CF9BD12            1\n",
       "26  00064032-57CA-421D-8D7C-C94D71608F68            1\n",
       "27  00064367-63D5-47BC-A616-A3E2BF7DB445            1\n",
       "28  00067A87-0E72-408B-9479-C643997E8CE8            1\n",
       "29  00068814-45EE-4C2F-BCAA-8CE11E329AB1            1\n",
       "30  0006B72A-6988-46C5-9297-7D58B6E36528            1\n",
       "31  0006BFDE-F14C-4C2D-A27F-B4344105062B            1\n",
       "32  0006CD74-7A37-4290-993F-1C651691E623            1\n",
       "33  00071141-3163-47D8-BD45-22A535E574E3            1\n",
       "34  0007137D-C343-4B60-86A2-F2CD431DF381            1\n",
       "35  000726B3-585D-46EE-A186-A688E2BB1600            1\n",
       "36  00076BFF-0ABE-4652-87A2-F79FC2B1A308            1\n",
       "37  0007730B-108C-4A0B-92FC-C5E04E284FB4            1\n",
       "38  00080F3F-0359-42C5-AFD2-A22260CAFE4D            1\n",
       "39  00081BF2-A675-4C8E-8411-EC37DB712BD3            1\n",
       "40  00083062-520A-4934-9DF0-183E6F0CF9BC            1\n",
       "41  00083D71-3C15-44F2-9816-362690F81622            1\n",
       "42  00088783-D238-494E-B7FE-3CE4F9EA45ED            1\n",
       "43  0008D7FC-3BA6-4960-9909-3081FD132EBD            1\n",
       "44  00091076-1500-4293-89BF-7A0750C426E5            1\n",
       "45  00094B58-1569-4672-8B7D-CF2513DEFF56            1\n",
       "46  00095B17-4EB0-4CBF-8006-5AA940D4D9E7            1\n",
       "47  00095E08-2A3E-4D29-BADB-DC0849DF01BE            1\n",
       "48  000A1FCB-2CFE-41EB-8087-C727ECE58CD3            1\n",
       "49  000AF961-F5F2-45F0-987F-B1A01DAF607E            1"
      ]
     },
     "execution_count": 44,
     "metadata": {},
     "output_type": "execute_result"
    }
   ],
   "source": [
    "result =pd.read_csv(\"Result.csv\")\n",
    "result.head(50)"
   ]
  },
  {
   "cell_type": "code",
   "execution_count": null,
   "metadata": {},
   "outputs": [],
   "source": []
  },
  {
   "cell_type": "code",
   "execution_count": null,
   "metadata": {},
   "outputs": [],
   "source": []
  }
 ],
 "metadata": {
  "kernelspec": {
   "display_name": "Python 3",
   "language": "python",
   "name": "python3"
  },
  "language_info": {
   "codemirror_mode": {
    "name": "ipython",
    "version": 3
   },
   "file_extension": ".py",
   "mimetype": "text/x-python",
   "name": "python",
   "nbconvert_exporter": "python",
   "pygments_lexer": "ipython3",
   "version": "3.7.3"
  }
 },
 "nbformat": 4,
 "nbformat_minor": 2
}
