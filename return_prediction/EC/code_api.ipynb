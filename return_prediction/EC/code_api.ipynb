{
 "cells": [
  {
   "cell_type": "markdown",
   "metadata": {},
   "source": [
    "### 將code,code_counts,category_unit_price連結 code_api"
   ]
  },
  {
   "cell_type": "code",
   "execution_count": 1,
   "metadata": {},
   "outputs": [],
   "source": [
    "import pandas as pd"
   ]
  },
  {
   "cell_type": "code",
   "execution_count": 3,
   "metadata": {},
   "outputs": [
    {
     "name": "stderr",
     "output_type": "stream",
     "text": [
      "/anaconda3/lib/python3.6/site-packages/IPython/core/interactiveshell.py:3049: DtypeWarning: Columns (16) have mixed types. Specify dtype option on import or set low_memory=False.\n",
      "  interactivity=interactivity, compiler=compiler, result=result)\n"
     ]
    }
   ],
   "source": [
    "deal=pd.read_csv('deal_final_0605.csv')"
   ]
  },
  {
   "cell_type": "code",
   "execution_count": 7,
   "metadata": {},
   "outputs": [
    {
     "name": "stdout",
     "output_type": "stream",
     "text": [
      "(295, 2)\n"
     ]
    },
    {
     "data": {
      "text/html": [
       "<div>\n",
       "<style scoped>\n",
       "    .dataframe tbody tr th:only-of-type {\n",
       "        vertical-align: middle;\n",
       "    }\n",
       "\n",
       "    .dataframe tbody tr th {\n",
       "        vertical-align: top;\n",
       "    }\n",
       "\n",
       "    .dataframe thead th {\n",
       "        text-align: right;\n",
       "    }\n",
       "</style>\n",
       "<table border=\"1\" class=\"dataframe\">\n",
       "  <thead>\n",
       "    <tr style=\"text-align: right;\">\n",
       "      <th></th>\n",
       "      <th>code</th>\n",
       "      <th>code_counts</th>\n",
       "    </tr>\n",
       "  </thead>\n",
       "  <tbody>\n",
       "    <tr>\n",
       "      <th>0</th>\n",
       "      <td>536</td>\n",
       "      <td>33645</td>\n",
       "    </tr>\n",
       "    <tr>\n",
       "      <th>1</th>\n",
       "      <td>423</td>\n",
       "      <td>24417</td>\n",
       "    </tr>\n",
       "    <tr>\n",
       "      <th>2</th>\n",
       "      <td>1604</td>\n",
       "      <td>20423</td>\n",
       "    </tr>\n",
       "  </tbody>\n",
       "</table>\n",
       "</div>"
      ],
      "text/plain": [
       "   code  code_counts\n",
       "0   536        33645\n",
       "1   423        24417\n",
       "2  1604        20423"
      ]
     },
     "execution_count": 7,
     "metadata": {},
     "output_type": "execute_result"
    }
   ],
   "source": [
    "code_counts=pd.read_csv('code_counts.csv')\n",
    "print(code_counts.shape)\n",
    "code_counts.head(3)"
   ]
  },
  {
   "cell_type": "code",
   "execution_count": 16,
   "metadata": {},
   "outputs": [
    {
     "data": {
      "text/html": [
       "<div>\n",
       "<style scoped>\n",
       "    .dataframe tbody tr th:only-of-type {\n",
       "        vertical-align: middle;\n",
       "    }\n",
       "\n",
       "    .dataframe tbody tr th {\n",
       "        vertical-align: top;\n",
       "    }\n",
       "\n",
       "    .dataframe thead th {\n",
       "        text-align: right;\n",
       "    }\n",
       "</style>\n",
       "<table border=\"1\" class=\"dataframe\">\n",
       "  <thead>\n",
       "    <tr style=\"text-align: right;\">\n",
       "      <th></th>\n",
       "      <th>code</th>\n",
       "      <th>code_mean_7days</th>\n",
       "      <th>code_max_7days</th>\n",
       "      <th>code_min_7days</th>\n",
       "      <th>code_median_7days</th>\n",
       "      <th>code_mean_14days</th>\n",
       "      <th>code_max_14days</th>\n",
       "      <th>code_min_14days</th>\n",
       "      <th>code_median_14days</th>\n",
       "      <th>code_mean_30days</th>\n",
       "      <th>...</th>\n",
       "      <th>code_min_30days</th>\n",
       "      <th>code_median_30days</th>\n",
       "      <th>code_mean_60days</th>\n",
       "      <th>code_max_60days</th>\n",
       "      <th>code_min_60days</th>\n",
       "      <th>code_median_60days</th>\n",
       "      <th>code_mean_180days</th>\n",
       "      <th>code_max_180days</th>\n",
       "      <th>code_min_180days</th>\n",
       "      <th>code_median_180days</th>\n",
       "    </tr>\n",
       "  </thead>\n",
       "  <tbody>\n",
       "    <tr>\n",
       "      <th>0</th>\n",
       "      <td>166.0</td>\n",
       "      <td>4869.213015</td>\n",
       "      <td>1331900.0</td>\n",
       "      <td>49.0</td>\n",
       "      <td>1575.0</td>\n",
       "      <td>6393.935013</td>\n",
       "      <td>1331900.0</td>\n",
       "      <td>79.0</td>\n",
       "      <td>1799.0</td>\n",
       "      <td>7425.780744</td>\n",
       "      <td>...</td>\n",
       "      <td>69.0</td>\n",
       "      <td>1996.0</td>\n",
       "      <td>7866.970931</td>\n",
       "      <td>1797840.0</td>\n",
       "      <td>69.0</td>\n",
       "      <td>2090.0</td>\n",
       "      <td>8304.521975</td>\n",
       "      <td>2360820.0</td>\n",
       "      <td>69.0</td>\n",
       "      <td>2248.5</td>\n",
       "    </tr>\n",
       "    <tr>\n",
       "      <th>1</th>\n",
       "      <td>2082.0</td>\n",
       "      <td>3759.103107</td>\n",
       "      <td>218790.0</td>\n",
       "      <td>78.0</td>\n",
       "      <td>1550.0</td>\n",
       "      <td>5058.728673</td>\n",
       "      <td>458370.0</td>\n",
       "      <td>78.0</td>\n",
       "      <td>1848.5</td>\n",
       "      <td>6357.477840</td>\n",
       "      <td>...</td>\n",
       "      <td>78.0</td>\n",
       "      <td>2097.0</td>\n",
       "      <td>6727.229074</td>\n",
       "      <td>812790.0</td>\n",
       "      <td>78.0</td>\n",
       "      <td>2232.5</td>\n",
       "      <td>7280.483813</td>\n",
       "      <td>812790.0</td>\n",
       "      <td>78.0</td>\n",
       "      <td>2392.0</td>\n",
       "    </tr>\n",
       "    <tr>\n",
       "      <th>2</th>\n",
       "      <td>222.0</td>\n",
       "      <td>8070.488153</td>\n",
       "      <td>598401.0</td>\n",
       "      <td>79.0</td>\n",
       "      <td>2097.5</td>\n",
       "      <td>10245.327628</td>\n",
       "      <td>1129115.0</td>\n",
       "      <td>79.0</td>\n",
       "      <td>2472.0</td>\n",
       "      <td>12068.105808</td>\n",
       "      <td>...</td>\n",
       "      <td>79.0</td>\n",
       "      <td>2896.0</td>\n",
       "      <td>12864.913523</td>\n",
       "      <td>1592142.0</td>\n",
       "      <td>79.0</td>\n",
       "      <td>2990.0</td>\n",
       "      <td>13805.016282</td>\n",
       "      <td>1592142.0</td>\n",
       "      <td>79.0</td>\n",
       "      <td>3387.0</td>\n",
       "    </tr>\n",
       "  </tbody>\n",
       "</table>\n",
       "<p>3 rows × 21 columns</p>\n",
       "</div>"
      ],
      "text/plain": [
       "     code  code_mean_7days  code_max_7days  code_min_7days  code_median_7days  \\\n",
       "0   166.0      4869.213015       1331900.0            49.0             1575.0   \n",
       "1  2082.0      3759.103107        218790.0            78.0             1550.0   \n",
       "2   222.0      8070.488153        598401.0            79.0             2097.5   \n",
       "\n",
       "   code_mean_14days  code_max_14days  code_min_14days  code_median_14days  \\\n",
       "0       6393.935013        1331900.0             79.0              1799.0   \n",
       "1       5058.728673         458370.0             78.0              1848.5   \n",
       "2      10245.327628        1129115.0             79.0              2472.0   \n",
       "\n",
       "   code_mean_30days  ...  code_min_30days  code_median_30days  \\\n",
       "0       7425.780744  ...             69.0              1996.0   \n",
       "1       6357.477840  ...             78.0              2097.0   \n",
       "2      12068.105808  ...             79.0              2896.0   \n",
       "\n",
       "   code_mean_60days  code_max_60days  code_min_60days  code_median_60days  \\\n",
       "0       7866.970931        1797840.0             69.0              2090.0   \n",
       "1       6727.229074         812790.0             78.0              2232.5   \n",
       "2      12864.913523        1592142.0             79.0              2990.0   \n",
       "\n",
       "   code_mean_180days  code_max_180days  code_min_180days  code_median_180days  \n",
       "0        8304.521975         2360820.0              69.0               2248.5  \n",
       "1        7280.483813          812790.0              78.0               2392.0  \n",
       "2       13805.016282         1592142.0              79.0               3387.0  \n",
       "\n",
       "[3 rows x 21 columns]"
      ]
     },
     "execution_count": 16,
     "metadata": {},
     "output_type": "execute_result"
    }
   ],
   "source": [
    "code=pd.read_csv('code.csv')\n",
    "code.head(3)"
   ]
  },
  {
   "cell_type": "code",
   "execution_count": 17,
   "metadata": {},
   "outputs": [
    {
     "data": {
      "text/html": [
       "<div>\n",
       "<style scoped>\n",
       "    .dataframe tbody tr th:only-of-type {\n",
       "        vertical-align: middle;\n",
       "    }\n",
       "\n",
       "    .dataframe tbody tr th {\n",
       "        vertical-align: top;\n",
       "    }\n",
       "\n",
       "    .dataframe thead th {\n",
       "        text-align: right;\n",
       "    }\n",
       "</style>\n",
       "<table border=\"1\" class=\"dataframe\">\n",
       "  <thead>\n",
       "    <tr style=\"text-align: right;\">\n",
       "      <th></th>\n",
       "      <th>code</th>\n",
       "      <th>code_mean_7days</th>\n",
       "      <th>code_max_7days</th>\n",
       "      <th>code_min_7days</th>\n",
       "      <th>code_median_7days</th>\n",
       "      <th>code_mean_14days</th>\n",
       "      <th>code_max_14days</th>\n",
       "      <th>code_min_14days</th>\n",
       "      <th>code_median_14days</th>\n",
       "      <th>code_mean_30days</th>\n",
       "      <th>...</th>\n",
       "      <th>code_min_30days</th>\n",
       "      <th>code_median_30days</th>\n",
       "      <th>code_mean_60days</th>\n",
       "      <th>code_max_60days</th>\n",
       "      <th>code_min_60days</th>\n",
       "      <th>code_median_60days</th>\n",
       "      <th>code_mean_180days</th>\n",
       "      <th>code_max_180days</th>\n",
       "      <th>code_min_180days</th>\n",
       "      <th>code_median_180days</th>\n",
       "    </tr>\n",
       "  </thead>\n",
       "  <tbody>\n",
       "    <tr>\n",
       "      <th>3</th>\n",
       "      <td>423.0</td>\n",
       "      <td>5169.034489</td>\n",
       "      <td>569828.0</td>\n",
       "      <td>26.0</td>\n",
       "      <td>2059.5</td>\n",
       "      <td>7008.302139</td>\n",
       "      <td>636400.0</td>\n",
       "      <td>26.0</td>\n",
       "      <td>2501.0</td>\n",
       "      <td>9191.436228</td>\n",
       "      <td>...</td>\n",
       "      <td>26.0</td>\n",
       "      <td>3060.0</td>\n",
       "      <td>10221.082071</td>\n",
       "      <td>1161800.0</td>\n",
       "      <td>26.0</td>\n",
       "      <td>3270.0</td>\n",
       "      <td>10845.385522</td>\n",
       "      <td>1511450.0</td>\n",
       "      <td>26.0</td>\n",
       "      <td>3459.0</td>\n",
       "    </tr>\n",
       "  </tbody>\n",
       "</table>\n",
       "<p>1 rows × 21 columns</p>\n",
       "</div>"
      ],
      "text/plain": [
       "    code  code_mean_7days  code_max_7days  code_min_7days  code_median_7days  \\\n",
       "3  423.0      5169.034489        569828.0            26.0             2059.5   \n",
       "\n",
       "   code_mean_14days  code_max_14days  code_min_14days  code_median_14days  \\\n",
       "3       7008.302139         636400.0             26.0              2501.0   \n",
       "\n",
       "   code_mean_30days  ...  code_min_30days  code_median_30days  \\\n",
       "3       9191.436228  ...             26.0              3060.0   \n",
       "\n",
       "   code_mean_60days  code_max_60days  code_min_60days  code_median_60days  \\\n",
       "3      10221.082071        1161800.0             26.0              3270.0   \n",
       "\n",
       "   code_mean_180days  code_max_180days  code_min_180days  code_median_180days  \n",
       "3       10845.385522         1511450.0              26.0               3459.0  \n",
       "\n",
       "[1 rows x 21 columns]"
      ]
     },
     "execution_count": 17,
     "metadata": {},
     "output_type": "execute_result"
    }
   ],
   "source": [
    "code[code.code==423]"
   ]
  },
  {
   "cell_type": "code",
   "execution_count": 18,
   "metadata": {},
   "outputs": [],
   "source": [
    "code=pd.merge(code,code_counts,how='left')"
   ]
  },
  {
   "cell_type": "code",
   "execution_count": 19,
   "metadata": {},
   "outputs": [
    {
     "data": {
      "text/plain": [
       "457"
      ]
     },
     "execution_count": 19,
     "metadata": {},
     "output_type": "execute_result"
    }
   ],
   "source": [
    "len(code.code.unique())"
   ]
  },
  {
   "cell_type": "code",
   "execution_count": 20,
   "metadata": {},
   "outputs": [
    {
     "name": "stdout",
     "output_type": "stream",
     "text": [
      "(457, 22)\n"
     ]
    },
    {
     "data": {
      "text/html": [
       "<div>\n",
       "<style scoped>\n",
       "    .dataframe tbody tr th:only-of-type {\n",
       "        vertical-align: middle;\n",
       "    }\n",
       "\n",
       "    .dataframe tbody tr th {\n",
       "        vertical-align: top;\n",
       "    }\n",
       "\n",
       "    .dataframe thead th {\n",
       "        text-align: right;\n",
       "    }\n",
       "</style>\n",
       "<table border=\"1\" class=\"dataframe\">\n",
       "  <thead>\n",
       "    <tr style=\"text-align: right;\">\n",
       "      <th></th>\n",
       "      <th>parent_code</th>\n",
       "      <th>parent_code_mean_7days</th>\n",
       "      <th>parent_code_max_7days</th>\n",
       "      <th>parent_code_min_7days</th>\n",
       "      <th>parent_code_median_7days</th>\n",
       "      <th>parent_code_mean_14days</th>\n",
       "      <th>parent_code_max_14days</th>\n",
       "      <th>parent_code_min_14days</th>\n",
       "      <th>parent_code_median_14days</th>\n",
       "      <th>parent_code_mean_30days</th>\n",
       "      <th>...</th>\n",
       "      <th>parent_code_median_30days</th>\n",
       "      <th>parent_code_mean_60days</th>\n",
       "      <th>parent_code_max_60days</th>\n",
       "      <th>parent_code_min_60days</th>\n",
       "      <th>parent_code_median_60days</th>\n",
       "      <th>parent_code_mean_180days</th>\n",
       "      <th>parent_code_max_180days</th>\n",
       "      <th>parent_code_min_180days</th>\n",
       "      <th>parent_code_median_180days</th>\n",
       "      <th>parent_code_counts</th>\n",
       "    </tr>\n",
       "  </thead>\n",
       "  <tbody>\n",
       "    <tr>\n",
       "      <th>0</th>\n",
       "      <td>166.0</td>\n",
       "      <td>4869.213015</td>\n",
       "      <td>1331900.0</td>\n",
       "      <td>49.0</td>\n",
       "      <td>1575.0</td>\n",
       "      <td>6393.935013</td>\n",
       "      <td>1331900.0</td>\n",
       "      <td>79.0</td>\n",
       "      <td>1799.0</td>\n",
       "      <td>7425.780744</td>\n",
       "      <td>...</td>\n",
       "      <td>1996.0</td>\n",
       "      <td>7866.970931</td>\n",
       "      <td>1797840.0</td>\n",
       "      <td>69.0</td>\n",
       "      <td>2090.0</td>\n",
       "      <td>8304.521975</td>\n",
       "      <td>2360820.0</td>\n",
       "      <td>69.0</td>\n",
       "      <td>2248.5</td>\n",
       "      <td>18283.0</td>\n",
       "    </tr>\n",
       "    <tr>\n",
       "      <th>1</th>\n",
       "      <td>2082.0</td>\n",
       "      <td>3759.103107</td>\n",
       "      <td>218790.0</td>\n",
       "      <td>78.0</td>\n",
       "      <td>1550.0</td>\n",
       "      <td>5058.728673</td>\n",
       "      <td>458370.0</td>\n",
       "      <td>78.0</td>\n",
       "      <td>1848.5</td>\n",
       "      <td>6357.477840</td>\n",
       "      <td>...</td>\n",
       "      <td>2097.0</td>\n",
       "      <td>6727.229074</td>\n",
       "      <td>812790.0</td>\n",
       "      <td>78.0</td>\n",
       "      <td>2232.5</td>\n",
       "      <td>7280.483813</td>\n",
       "      <td>812790.0</td>\n",
       "      <td>78.0</td>\n",
       "      <td>2392.0</td>\n",
       "      <td>12341.0</td>\n",
       "    </tr>\n",
       "    <tr>\n",
       "      <th>2</th>\n",
       "      <td>222.0</td>\n",
       "      <td>8070.488153</td>\n",
       "      <td>598401.0</td>\n",
       "      <td>79.0</td>\n",
       "      <td>2097.5</td>\n",
       "      <td>10245.327628</td>\n",
       "      <td>1129115.0</td>\n",
       "      <td>79.0</td>\n",
       "      <td>2472.0</td>\n",
       "      <td>12068.105808</td>\n",
       "      <td>...</td>\n",
       "      <td>2896.0</td>\n",
       "      <td>12864.913523</td>\n",
       "      <td>1592142.0</td>\n",
       "      <td>79.0</td>\n",
       "      <td>2990.0</td>\n",
       "      <td>13805.016282</td>\n",
       "      <td>1592142.0</td>\n",
       "      <td>79.0</td>\n",
       "      <td>3387.0</td>\n",
       "      <td>6205.0</td>\n",
       "    </tr>\n",
       "  </tbody>\n",
       "</table>\n",
       "<p>3 rows × 22 columns</p>\n",
       "</div>"
      ],
      "text/plain": [
       "   parent_code  parent_code_mean_7days  parent_code_max_7days  \\\n",
       "0        166.0             4869.213015              1331900.0   \n",
       "1       2082.0             3759.103107               218790.0   \n",
       "2        222.0             8070.488153               598401.0   \n",
       "\n",
       "   parent_code_min_7days  parent_code_median_7days  parent_code_mean_14days  \\\n",
       "0                   49.0                    1575.0              6393.935013   \n",
       "1                   78.0                    1550.0              5058.728673   \n",
       "2                   79.0                    2097.5             10245.327628   \n",
       "\n",
       "   parent_code_max_14days  parent_code_min_14days  parent_code_median_14days  \\\n",
       "0               1331900.0                    79.0                     1799.0   \n",
       "1                458370.0                    78.0                     1848.5   \n",
       "2               1129115.0                    79.0                     2472.0   \n",
       "\n",
       "   parent_code_mean_30days  ...  parent_code_median_30days  \\\n",
       "0              7425.780744  ...                     1996.0   \n",
       "1              6357.477840  ...                     2097.0   \n",
       "2             12068.105808  ...                     2896.0   \n",
       "\n",
       "   parent_code_mean_60days  parent_code_max_60days  parent_code_min_60days  \\\n",
       "0              7866.970931               1797840.0                    69.0   \n",
       "1              6727.229074                812790.0                    78.0   \n",
       "2             12864.913523               1592142.0                    79.0   \n",
       "\n",
       "   parent_code_median_60days  parent_code_mean_180days  \\\n",
       "0                     2090.0               8304.521975   \n",
       "1                     2232.5               7280.483813   \n",
       "2                     2990.0              13805.016282   \n",
       "\n",
       "   parent_code_max_180days  parent_code_min_180days  \\\n",
       "0                2360820.0                     69.0   \n",
       "1                 812790.0                     78.0   \n",
       "2                1592142.0                     79.0   \n",
       "\n",
       "   parent_code_median_180days  parent_code_counts  \n",
       "0                      2248.5             18283.0  \n",
       "1                      2392.0             12341.0  \n",
       "2                      3387.0              6205.0  \n",
       "\n",
       "[3 rows x 22 columns]"
      ]
     },
     "execution_count": 20,
     "metadata": {},
     "output_type": "execute_result"
    }
   ],
   "source": [
    "parentcode=code.copy()\n",
    "parentcode.columns=['parent_code', 'parent_code_mean_7days', 'parent_code_max_7days', 'parent_code_min_7days',\n",
    "       'parent_code_median_7days', 'parent_code_mean_14days', 'parent_code_max_14days',\n",
    "       'parent_code_min_14days', 'parent_code_median_14days', 'parent_code_mean_30days',\n",
    "       'parent_code_max_30days', 'parent_code_min_30days', 'parent_code_median_30days',\n",
    "       'parent_code_mean_60days', 'parent_code_max_60days', 'parent_code_min_60days',\n",
    "       'parent_code_median_60days', 'parent_code_mean_180days', 'parent_code_max_180days',\n",
    "       'parent_code_min_180days', 'parent_code_median_180days','parent_code_counts']\n",
    "print(parentcode.shape)\n",
    "parentcode.head(3)"
   ]
  },
  {
   "cell_type": "code",
   "execution_count": 21,
   "metadata": {},
   "outputs": [],
   "source": [
    "parent=pd.read_csv('parent_code_map.csv')"
   ]
  },
  {
   "cell_type": "code",
   "execution_count": null,
   "metadata": {},
   "outputs": [],
   "source": []
  },
  {
   "cell_type": "code",
   "execution_count": 22,
   "metadata": {},
   "outputs": [
    {
     "data": {
      "text/html": [
       "<div>\n",
       "<style scoped>\n",
       "    .dataframe tbody tr th:only-of-type {\n",
       "        vertical-align: middle;\n",
       "    }\n",
       "\n",
       "    .dataframe tbody tr th {\n",
       "        vertical-align: top;\n",
       "    }\n",
       "\n",
       "    .dataframe thead th {\n",
       "        text-align: right;\n",
       "    }\n",
       "</style>\n",
       "<table border=\"1\" class=\"dataframe\">\n",
       "  <thead>\n",
       "    <tr style=\"text-align: right;\">\n",
       "      <th></th>\n",
       "      <th>code</th>\n",
       "      <th>parent_code</th>\n",
       "    </tr>\n",
       "  </thead>\n",
       "  <tbody>\n",
       "    <tr>\n",
       "      <th>0</th>\n",
       "      <td>3066</td>\n",
       "      <td>203</td>\n",
       "    </tr>\n",
       "    <tr>\n",
       "      <th>1</th>\n",
       "      <td>5598</td>\n",
       "      <td>203</td>\n",
       "    </tr>\n",
       "    <tr>\n",
       "      <th>2</th>\n",
       "      <td>5514</td>\n",
       "      <td>203</td>\n",
       "    </tr>\n",
       "  </tbody>\n",
       "</table>\n",
       "</div>"
      ],
      "text/plain": [
       "   code  parent_code\n",
       "0  3066          203\n",
       "1  5598          203\n",
       "2  5514          203"
      ]
     },
     "execution_count": 22,
     "metadata": {},
     "output_type": "execute_result"
    }
   ],
   "source": [
    "parent.head(3)"
   ]
  },
  {
   "cell_type": "code",
   "execution_count": 23,
   "metadata": {},
   "outputs": [],
   "source": [
    "codemerge=pd.merge(code,parent,how='left')"
   ]
  },
  {
   "cell_type": "code",
   "execution_count": 24,
   "metadata": {},
   "outputs": [
    {
     "data": {
      "text/plain": [
       "457"
      ]
     },
     "execution_count": 24,
     "metadata": {},
     "output_type": "execute_result"
    }
   ],
   "source": [
    "len(codemerge.code.unique())"
   ]
  },
  {
   "cell_type": "code",
   "execution_count": 27,
   "metadata": {},
   "outputs": [],
   "source": [
    "codemerge.code_counts=codemerge.code_counts.fillna(1)"
   ]
  },
  {
   "cell_type": "code",
   "execution_count": 28,
   "metadata": {},
   "outputs": [],
   "source": [
    "codemerge.parent_code=codemerge.parent_code.fillna(codemerge.code)"
   ]
  },
  {
   "cell_type": "code",
   "execution_count": 30,
   "metadata": {},
   "outputs": [
    {
     "data": {
      "text/plain": [
       "457"
      ]
     },
     "execution_count": 30,
     "metadata": {},
     "output_type": "execute_result"
    }
   ],
   "source": [
    "len(codemerge.code.unique())"
   ]
  },
  {
   "cell_type": "code",
   "execution_count": 32,
   "metadata": {
    "scrolled": true
   },
   "outputs": [],
   "source": [
    "total=pd.merge(codemerge,parentcode)"
   ]
  },
  {
   "cell_type": "code",
   "execution_count": 33,
   "metadata": {},
   "outputs": [],
   "source": [
    "beforeday=pd.read_csv('code_beforedays.csv')"
   ]
  },
  {
   "cell_type": "code",
   "execution_count": 34,
   "metadata": {},
   "outputs": [],
   "source": [
    "beforeday=beforeday[beforeday.buying_date=='2019-04-29']"
   ]
  },
  {
   "cell_type": "code",
   "execution_count": 35,
   "metadata": {},
   "outputs": [
    {
     "data": {
      "text/plain": [
       "(457, 44)"
      ]
     },
     "execution_count": 35,
     "metadata": {},
     "output_type": "execute_result"
    }
   ],
   "source": [
    "total.shape"
   ]
  },
  {
   "cell_type": "code",
   "execution_count": 36,
   "metadata": {},
   "outputs": [],
   "source": [
    "allbeforeday=pd.merge(beforeday,total)"
   ]
  },
  {
   "cell_type": "code",
   "execution_count": 37,
   "metadata": {},
   "outputs": [],
   "source": [
    "codecat=pd.read_csv('codecat.csv')"
   ]
  },
  {
   "cell_type": "code",
   "execution_count": 38,
   "metadata": {},
   "outputs": [
    {
     "data": {
      "text/html": [
       "<div>\n",
       "<style scoped>\n",
       "    .dataframe tbody tr th:only-of-type {\n",
       "        vertical-align: middle;\n",
       "    }\n",
       "\n",
       "    .dataframe tbody tr th {\n",
       "        vertical-align: top;\n",
       "    }\n",
       "\n",
       "    .dataframe thead th {\n",
       "        text-align: right;\n",
       "    }\n",
       "</style>\n",
       "<table border=\"1\" class=\"dataframe\">\n",
       "  <thead>\n",
       "    <tr style=\"text-align: right;\">\n",
       "      <th></th>\n",
       "      <th>code</th>\n",
       "      <th>category_unit_price</th>\n",
       "    </tr>\n",
       "  </thead>\n",
       "  <tbody>\n",
       "    <tr>\n",
       "      <th>0</th>\n",
       "      <td>1604.0</td>\n",
       "      <td>319.0</td>\n",
       "    </tr>\n",
       "    <tr>\n",
       "      <th>1</th>\n",
       "      <td>536.0</td>\n",
       "      <td>299.0</td>\n",
       "    </tr>\n",
       "    <tr>\n",
       "      <th>2</th>\n",
       "      <td>922.0</td>\n",
       "      <td>315.0</td>\n",
       "    </tr>\n",
       "  </tbody>\n",
       "</table>\n",
       "</div>"
      ],
      "text/plain": [
       "     code  category_unit_price\n",
       "0  1604.0                319.0\n",
       "1   536.0                299.0\n",
       "2   922.0                315.0"
      ]
     },
     "execution_count": 38,
     "metadata": {},
     "output_type": "execute_result"
    }
   ],
   "source": [
    "codecat.head(3)"
   ]
  },
  {
   "cell_type": "code",
   "execution_count": null,
   "metadata": {},
   "outputs": [],
   "source": [
    "sns.barplot()"
   ]
  },
  {
   "cell_type": "code",
   "execution_count": 40,
   "metadata": {},
   "outputs": [],
   "source": [
    "allbeforeday=pd.merge(allbeforeday,codecat)"
   ]
  },
  {
   "cell_type": "code",
   "execution_count": 44,
   "metadata": {},
   "outputs": [],
   "source": [
    "allbeforeday.parent_code_counts=allbeforeday.parent_code_counts.fillna(1)"
   ]
  },
  {
   "cell_type": "code",
   "execution_count": 45,
   "metadata": {},
   "outputs": [],
   "source": [
    "allbeforeday.to_csv('code_api.csv',index=False)"
   ]
  },
  {
   "cell_type": "code",
   "execution_count": null,
   "metadata": {},
   "outputs": [],
   "source": []
  }
 ],
 "metadata": {
  "kernelspec": {
   "display_name": "Python 3",
   "language": "python",
   "name": "python3"
  },
  "language_info": {
   "codemirror_mode": {
    "name": "ipython",
    "version": 3
   },
   "file_extension": ".py",
   "mimetype": "text/x-python",
   "name": "python",
   "nbconvert_exporter": "python",
   "pygments_lexer": "ipython3",
   "version": "3.6.8"
  }
 },
 "nbformat": 4,
 "nbformat_minor": 2
}
