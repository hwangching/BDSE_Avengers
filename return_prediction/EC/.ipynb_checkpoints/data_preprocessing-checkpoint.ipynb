{
 "cells": [
  {
   "cell_type": "markdown",
   "metadata": {},
   "source": [
    "### 回購預測 模型處理流程\n",
    "目標:預測客戶在收到優惠券後,是否進行回購之機率\n",
    "流程:將資料整理為以個人為單位,透過收到優惠券前的消費行為找出關鍵特徵,收到優惠券後是否有消費為目標特徵,將客戶資料分為訓練.測試集,再進行模型建立\n",
    "\n",
    "消費者模型 RFM(Recency,Frequency,Monetary)　NES 模型\n",
    "留存率.回購率.購買週期.消費分布\n",
    "\n",
    "###### order.csv\n",
    "* columns:GUID(訂單編號) seller_GUID(廠商ID) subtotal(訂單金額) is_returned(是否退貨)create_time(訂購日期) business_hour_guid(商品檔次ID) order_from_type(來源裝置) user_id(訂購人ID) installment(刷卡分期)\n",
    "* 利用回購次數分為 order_new(新客戶)與 order_returned(舊客戶)\n",
    "* 找出舊客戶與優惠券發放時間關聯(是否有受到優惠卷回購影響)\n",
    "* 計算以客戶ID為單位的總購買量.總購買金額.總購買次數(平均購買量.平均購買金額).平均購買週期(NES分類),購買日期\n",
    "\n",
    "###### discount_campaign.csv\n",
    "* columns:id(優惠活動ID) name(優惠活動名稱) amount(優惠面額) qty(發放總量) total(優惠總額) start_time(活動開始時間) end_time(活動結束時間) cancel_time(活動取消時間) minimum_amount(訂單金額下限)\tmin_gross_margin(最小毛利率) is_discount_price_for_deal(是否在前台顯示優惠後價格) category_id(分類編號)\n",
    "* 與discount_code合併\n",
    "* 了解該優惠券是否為專一品項或是全品項式\n",
    "\n",
    "###### discount_code.csv\n",
    "* columns:id(優惠券ID) campaign_id(優惠活動ID) use_amount(使用金額) order_guid(訂單編號) order_amount(訂單金額) cancel_time(取消時間) order_cost(訂單扣除優惠金額) send_date(發放日期) use_id(使用者ID) owner(擁有者ID)\n",
    "* 找出每個使用者ID收取優惠券的資訊\n"
   ]
  },
  {
   "cell_type": "markdown",
   "metadata": {},
   "source": [
    "### kaggle  Predict Future Sales summary\n",
    "* 'date_block_num':購買日期 用週期為單位\n",
    "* 'shop_id': 地理位置\n",
    "* 'item_id': 產品id\n",
    "* 'item_cnt_month' : 每月\n",
    "* 'city_code'\n",
    "* 'item_category_id'\n",
    "* 'type_code'\n",
    "* 'subtype_code'\n",
    "* 'item_cnt_month_lag_1' (1,2,3,6,12)\n",
    "* 'date_avg_item_cnt_lag_'\n",
    "* 'date_item_avg_item_cnt_lag_'\n",
    "* 'date_shop_avg_item_cnt_lag_'\n",
    "* 'date_cat_avg_item_cnt_lag_'\n",
    "* 'date_shop_cat_avg_item_cnt_lag_'\n",
    "* 'date_shop_type_avg_item_cnt_lag_'\n",
    "* 'date_shop_subtype_avg_item_cnt_lag_' \n",
    "* 'date_city_avg_item_cnt_lag_'\n",
    "* 'date_item_city_avg_item_cnt_lag_'\n",
    "* 'date_type_avg_item_cnt_lag_'\n",
    "* 'date_subtype_avg_item_cnt_lag_'\n",
    "* 'delta_price_lag'\n",
    "* 'delta_revenue_lag_'\n",
    "* 'month'\n",
    "* 'days'\n",
    "* 'item_shop_last_sale'\n",
    "* 'item_last_sale'\n",
    "* 'item_shop_first_sale'\n",
    "* 'item_first_sale'"
   ]
  },
  {
   "cell_type": "code",
   "execution_count": 1,
   "metadata": {},
   "outputs": [],
   "source": [
    "import numpy as np \n",
    "import pandas as pd"
   ]
  },
  {
   "cell_type": "code",
   "execution_count": 2,
   "metadata": {},
   "outputs": [],
   "source": [
    "order=pd.read_csv(\"order.csv\")"
   ]
  },
  {
   "cell_type": "code",
   "execution_count": 3,
   "metadata": {
    "scrolled": true
   },
   "outputs": [
    {
     "data": {
      "text/html": [
       "<div>\n",
       "<style scoped>\n",
       "    .dataframe tbody tr th:only-of-type {\n",
       "        vertical-align: middle;\n",
       "    }\n",
       "\n",
       "    .dataframe tbody tr th {\n",
       "        vertical-align: top;\n",
       "    }\n",
       "\n",
       "    .dataframe thead th {\n",
       "        text-align: right;\n",
       "    }\n",
       "</style>\n",
       "<table border=\"1\" class=\"dataframe\">\n",
       "  <thead>\n",
       "    <tr style=\"text-align: right;\">\n",
       "      <th></th>\n",
       "      <th>GUID</th>\n",
       "      <th>seller_GUID</th>\n",
       "      <th>seller_name</th>\n",
       "      <th>subtotal</th>\n",
       "      <th>Unnamed: 4</th>\n",
       "      <th>create_time</th>\n",
       "      <th>business_hour_guid</th>\n",
       "      <th>order_from_type</th>\n",
       "      <th>user_id</th>\n",
       "      <th>installment</th>\n",
       "    </tr>\n",
       "  </thead>\n",
       "  <tbody>\n",
       "    <tr>\n",
       "      <th>0</th>\n",
       "      <td>7358E8A1-A918-42CD-A846-AAEF0A0E2B67</td>\n",
       "      <td>35443723-B460-4CF5-AFD2-DF1F29ECB305</td>\n",
       "      <td>17P商品-HONEYWELL空氣循環機</td>\n",
       "      <td>2.0</td>\n",
       "      <td>1.0</td>\n",
       "      <td>2010-06-01 18:06:41.987</td>\n",
       "      <td>02C55598-E1E7-40E1-996B-371EAE55F840</td>\n",
       "      <td>1.0</td>\n",
       "      <td>1.111230e+09</td>\n",
       "      <td>0.0</td>\n",
       "    </tr>\n",
       "    <tr>\n",
       "      <th>1</th>\n",
       "      <td>A248B260-6366-4A2D-9A29-BF29A170A4AB</td>\n",
       "      <td>35443723-B460-4CF5-AFD2-DF1F29ECB305</td>\n",
       "      <td>17P商品-HONEYWELL空氣循環機</td>\n",
       "      <td>1350.0</td>\n",
       "      <td>0.0</td>\n",
       "      <td>2010-06-07 15:34:49.693</td>\n",
       "      <td>02C55598-E1E7-40E1-996B-371EAE55F840</td>\n",
       "      <td>1.0</td>\n",
       "      <td>1.111230e+09</td>\n",
       "      <td>0.0</td>\n",
       "    </tr>\n",
       "    <tr>\n",
       "      <th>2</th>\n",
       "      <td>8433DD4F-368D-41EA-9D3B-56E5BAE76BC2</td>\n",
       "      <td>35443723-B460-4CF5-AFD2-DF1F29ECB305</td>\n",
       "      <td>17P商品-HONEYWELL空氣循環機</td>\n",
       "      <td>1350.0</td>\n",
       "      <td>0.0</td>\n",
       "      <td>2010-06-07 22:28:37.443</td>\n",
       "      <td>02C55598-E1E7-40E1-996B-371EAE55F840</td>\n",
       "      <td>1.0</td>\n",
       "      <td>1.111194e+09</td>\n",
       "      <td>0.0</td>\n",
       "    </tr>\n",
       "    <tr>\n",
       "      <th>3</th>\n",
       "      <td>A85FC574-B5DA-43BE-88C8-326E1B90EE12</td>\n",
       "      <td>35443723-B460-4CF5-AFD2-DF1F29ECB305</td>\n",
       "      <td>17P商品-HONEYWELL空氣循環機</td>\n",
       "      <td>1350.0</td>\n",
       "      <td>0.0</td>\n",
       "      <td>2010-06-08 14:38:53.600</td>\n",
       "      <td>02C55598-E1E7-40E1-996B-371EAE55F840</td>\n",
       "      <td>1.0</td>\n",
       "      <td>1.111251e+09</td>\n",
       "      <td>0.0</td>\n",
       "    </tr>\n",
       "    <tr>\n",
       "      <th>4</th>\n",
       "      <td>EB9E799B-EB28-4F9F-820F-FF54BBF9E81F</td>\n",
       "      <td>35443723-B460-4CF5-AFD2-DF1F29ECB305</td>\n",
       "      <td>17P商品-HONEYWELL空氣循環機</td>\n",
       "      <td>1350.0</td>\n",
       "      <td>0.0</td>\n",
       "      <td>2010-06-09 08:45:17.770</td>\n",
       "      <td>02C55598-E1E7-40E1-996B-371EAE55F840</td>\n",
       "      <td>1.0</td>\n",
       "      <td>1.111387e+09</td>\n",
       "      <td>0.0</td>\n",
       "    </tr>\n",
       "  </tbody>\n",
       "</table>\n",
       "</div>"
      ],
      "text/plain": [
       "                                   GUID                           seller_GUID  \\\n",
       "0  7358E8A1-A918-42CD-A846-AAEF0A0E2B67  35443723-B460-4CF5-AFD2-DF1F29ECB305   \n",
       "1  A248B260-6366-4A2D-9A29-BF29A170A4AB  35443723-B460-4CF5-AFD2-DF1F29ECB305   \n",
       "2  8433DD4F-368D-41EA-9D3B-56E5BAE76BC2  35443723-B460-4CF5-AFD2-DF1F29ECB305   \n",
       "3  A85FC574-B5DA-43BE-88C8-326E1B90EE12  35443723-B460-4CF5-AFD2-DF1F29ECB305   \n",
       "4  EB9E799B-EB28-4F9F-820F-FF54BBF9E81F  35443723-B460-4CF5-AFD2-DF1F29ECB305   \n",
       "\n",
       "            seller_name  subtotal  Unnamed: 4              create_time  \\\n",
       "0  17P商品-HONEYWELL空氣循環機       2.0         1.0  2010-06-01 18:06:41.987   \n",
       "1  17P商品-HONEYWELL空氣循環機    1350.0         0.0  2010-06-07 15:34:49.693   \n",
       "2  17P商品-HONEYWELL空氣循環機    1350.0         0.0  2010-06-07 22:28:37.443   \n",
       "3  17P商品-HONEYWELL空氣循環機    1350.0         0.0  2010-06-08 14:38:53.600   \n",
       "4  17P商品-HONEYWELL空氣循環機    1350.0         0.0  2010-06-09 08:45:17.770   \n",
       "\n",
       "                     business_hour_guid  order_from_type       user_id  \\\n",
       "0  02C55598-E1E7-40E1-996B-371EAE55F840              1.0  1.111230e+09   \n",
       "1  02C55598-E1E7-40E1-996B-371EAE55F840              1.0  1.111230e+09   \n",
       "2  02C55598-E1E7-40E1-996B-371EAE55F840              1.0  1.111194e+09   \n",
       "3  02C55598-E1E7-40E1-996B-371EAE55F840              1.0  1.111251e+09   \n",
       "4  02C55598-E1E7-40E1-996B-371EAE55F840              1.0  1.111387e+09   \n",
       "\n",
       "   installment  \n",
       "0          0.0  \n",
       "1          0.0  \n",
       "2          0.0  \n",
       "3          0.0  \n",
       "4          0.0  "
      ]
     },
     "execution_count": 3,
     "metadata": {},
     "output_type": "execute_result"
    }
   ],
   "source": [
    "order.head()"
   ]
  },
  {
   "cell_type": "code",
   "execution_count": 4,
   "metadata": {},
   "outputs": [],
   "source": [
    "order.rename(columns={'Unnamed: 4':'is_returned'}, inplace=True)"
   ]
  },
  {
   "cell_type": "code",
   "execution_count": 5,
   "metadata": {},
   "outputs": [],
   "source": [
    "order=order[:4080856]"
   ]
  },
  {
   "cell_type": "code",
   "execution_count": 8,
   "metadata": {},
   "outputs": [],
   "source": [
    "order.user_id = order.user_id.astype('int')\n",
    "order.user_id = order.user_id.astype('str')"
   ]
  },
  {
   "cell_type": "code",
   "execution_count": 9,
   "metadata": {},
   "outputs": [],
   "source": [
    "order_new = order[order.groupby('user_id').user_id.transform(len) ==1]"
   ]
  },
  {
   "cell_type": "code",
   "execution_count": 10,
   "metadata": {},
   "outputs": [],
   "source": [
    "order_returned = order[order.groupby('user_id').user_id.transform(len) > 1]"
   ]
  },
  {
   "cell_type": "code",
   "execution_count": 11,
   "metadata": {},
   "outputs": [
    {
     "data": {
      "text/plain": [
       "'first-time purchase: 499105 , repeated-purchase: 467634'"
      ]
     },
     "execution_count": 11,
     "metadata": {},
     "output_type": "execute_result"
    }
   ],
   "source": [
    "f\"first-time purchase: {len(order_new.user_id.unique())} , repeated-purchase: {len(order_returned.user_id.unique())}\""
   ]
  },
  {
   "cell_type": "code",
   "execution_count": 14,
   "metadata": {},
   "outputs": [
    {
     "data": {
      "text/html": [
       "<div>\n",
       "<style scoped>\n",
       "    .dataframe tbody tr th:only-of-type {\n",
       "        vertical-align: middle;\n",
       "    }\n",
       "\n",
       "    .dataframe tbody tr th {\n",
       "        vertical-align: top;\n",
       "    }\n",
       "\n",
       "    .dataframe thead th {\n",
       "        text-align: right;\n",
       "    }\n",
       "</style>\n",
       "<table border=\"1\" class=\"dataframe\">\n",
       "  <thead>\n",
       "    <tr style=\"text-align: right;\">\n",
       "      <th></th>\n",
       "      <th>GUID</th>\n",
       "      <th>seller_GUID</th>\n",
       "      <th>seller_name</th>\n",
       "      <th>subtotal</th>\n",
       "      <th>is_returned</th>\n",
       "      <th>create_time</th>\n",
       "      <th>business_hour_guid</th>\n",
       "      <th>order_from_type</th>\n",
       "      <th>user_id</th>\n",
       "      <th>installment</th>\n",
       "    </tr>\n",
       "  </thead>\n",
       "  <tbody>\n",
       "    <tr>\n",
       "      <th>191336</th>\n",
       "      <td>678A8B76-EAFF-4396-A7F7-1474A1941475</td>\n",
       "      <td>1750DF0D-4CC9-49FE-B2F1-ABB35BDBF4BC</td>\n",
       "      <td>17P商品-諾貝兒益智玩具租借專賣店</td>\n",
       "      <td>1797.0</td>\n",
       "      <td>0.0</td>\n",
       "      <td>2012-03-21 16:45:35.700</td>\n",
       "      <td>21BF6040-97F4-4AAF-8E9E-16E04054C557</td>\n",
       "      <td>1.0</td>\n",
       "      <td>1111111122</td>\n",
       "      <td>0.0</td>\n",
       "    </tr>\n",
       "    <tr>\n",
       "      <th>202222</th>\n",
       "      <td>4A049484-14BE-48E8-960B-EFDF16E4AB82</td>\n",
       "      <td>28AC9DA8-CC57-46A5-B21D-3BB3421D5131</td>\n",
       "      <td>17P商品-名隼企業社</td>\n",
       "      <td>249.0</td>\n",
       "      <td>0.0</td>\n",
       "      <td>2012-03-30 14:34:05.143</td>\n",
       "      <td>88B8BD5E-A663-4CD0-8A60-4199E8E2068E</td>\n",
       "      <td>1.0</td>\n",
       "      <td>1111111122</td>\n",
       "      <td>0.0</td>\n",
       "    </tr>\n",
       "    <tr>\n",
       "      <th>1660665</th>\n",
       "      <td>B8A06496-00E7-46BB-89BE-C2F8F43A0C68</td>\n",
       "      <td>29CF2911-9521-4590-9B70-603346D21FDF</td>\n",
       "      <td>【P玩美】摩娜卡諾日韓服飾行</td>\n",
       "      <td>349.0</td>\n",
       "      <td>0.0</td>\n",
       "      <td>2014-06-22 22:26:39.077</td>\n",
       "      <td>F95FFD2D-F88F-44BA-A1EF-1896C118500E</td>\n",
       "      <td>1.0</td>\n",
       "      <td>1111111127</td>\n",
       "      <td>0.0</td>\n",
       "    </tr>\n",
       "  </tbody>\n",
       "</table>\n",
       "</div>"
      ],
      "text/plain": [
       "                                         GUID  \\\n",
       "191336   678A8B76-EAFF-4396-A7F7-1474A1941475   \n",
       "202222   4A049484-14BE-48E8-960B-EFDF16E4AB82   \n",
       "1660665  B8A06496-00E7-46BB-89BE-C2F8F43A0C68   \n",
       "\n",
       "                                  seller_GUID         seller_name  subtotal  \\\n",
       "191336   1750DF0D-4CC9-49FE-B2F1-ABB35BDBF4BC  17P商品-諾貝兒益智玩具租借專賣店    1797.0   \n",
       "202222   28AC9DA8-CC57-46A5-B21D-3BB3421D5131         17P商品-名隼企業社     249.0   \n",
       "1660665  29CF2911-9521-4590-9B70-603346D21FDF      【P玩美】摩娜卡諾日韓服飾行     349.0   \n",
       "\n",
       "         is_returned              create_time  \\\n",
       "191336           0.0  2012-03-21 16:45:35.700   \n",
       "202222           0.0  2012-03-30 14:34:05.143   \n",
       "1660665          0.0  2014-06-22 22:26:39.077   \n",
       "\n",
       "                           business_hour_guid  order_from_type     user_id  \\\n",
       "191336   21BF6040-97F4-4AAF-8E9E-16E04054C557              1.0  1111111122   \n",
       "202222   88B8BD5E-A663-4CD0-8A60-4199E8E2068E              1.0  1111111122   \n",
       "1660665  F95FFD2D-F88F-44BA-A1EF-1896C118500E              1.0  1111111127   \n",
       "\n",
       "         installment  \n",
       "191336           0.0  \n",
       "202222           0.0  \n",
       "1660665          0.0  "
      ]
     },
     "execution_count": 14,
     "metadata": {},
     "output_type": "execute_result"
    }
   ],
   "source": [
    "order_returned=order_returned.sort_values(['user_id','create_time'])\n",
    "order_returned.head(3)"
   ]
  },
  {
   "cell_type": "code",
   "execution_count": 13,
   "metadata": {},
   "outputs": [
    {
     "data": {
      "text/html": [
       "<div>\n",
       "<style scoped>\n",
       "    .dataframe tbody tr th:only-of-type {\n",
       "        vertical-align: middle;\n",
       "    }\n",
       "\n",
       "    .dataframe tbody tr th {\n",
       "        vertical-align: top;\n",
       "    }\n",
       "\n",
       "    .dataframe thead th {\n",
       "        text-align: right;\n",
       "    }\n",
       "</style>\n",
       "<table border=\"1\" class=\"dataframe\">\n",
       "  <thead>\n",
       "    <tr style=\"text-align: right;\">\n",
       "      <th></th>\n",
       "      <th>GUID</th>\n",
       "      <th>seller_GUID</th>\n",
       "      <th>seller_name</th>\n",
       "      <th>subtotal</th>\n",
       "      <th>is_returned</th>\n",
       "      <th>create_time</th>\n",
       "      <th>business_hour_guid</th>\n",
       "      <th>order_from_type</th>\n",
       "      <th>user_id</th>\n",
       "      <th>installment</th>\n",
       "    </tr>\n",
       "  </thead>\n",
       "  <tbody>\n",
       "    <tr>\n",
       "      <th>15241</th>\n",
       "      <td>F138A1CB-6029-45E5-845F-EAADEA6B3B83</td>\n",
       "      <td>4BDA1E37-3987-4119-990B-6DFAA949BC95</td>\n",
       "      <td>17P福利-膳魔師天鵝壺1000cc</td>\n",
       "      <td>299.0</td>\n",
       "      <td>1.0</td>\n",
       "      <td>2011-03-31 20:15:17.773</td>\n",
       "      <td>B9E0A83A-7366-4CFA-8BFE-D04360E7BEA6</td>\n",
       "      <td>1.0</td>\n",
       "      <td>1111111111</td>\n",
       "      <td>0.0</td>\n",
       "    </tr>\n",
       "    <tr>\n",
       "      <th>2601490</th>\n",
       "      <td>29A88CCB-14D1-4483-BE22-19765F5DA632</td>\n",
       "      <td>6DBCD583-716B-4AFC-8CE5-A97A093482FF</td>\n",
       "      <td>吉芙特有限公司</td>\n",
       "      <td>550.0</td>\n",
       "      <td>0.0</td>\n",
       "      <td>2015-12-14 17:24:24.087</td>\n",
       "      <td>0DE160A0-8180-48A8-8AC3-E0C2C45823B6</td>\n",
       "      <td>6.0</td>\n",
       "      <td>1111111114</td>\n",
       "      <td>0.0</td>\n",
       "    </tr>\n",
       "    <tr>\n",
       "      <th>5244</th>\n",
       "      <td>8EB48635-1B6A-4D69-94CC-07D7E7CA1A2C</td>\n",
       "      <td>6ABC7986-3907-4877-8C21-2ECBA33DD434</td>\n",
       "      <td>17P福利-【enegreen】充電式電暖蛋</td>\n",
       "      <td>4990.0</td>\n",
       "      <td>0.0</td>\n",
       "      <td>2010-11-26 16:04:41.610</td>\n",
       "      <td>C7067EA3-23D8-4987-9E34-39AC21388051</td>\n",
       "      <td>1.0</td>\n",
       "      <td>1111111123</td>\n",
       "      <td>0.0</td>\n",
       "    </tr>\n",
       "  </tbody>\n",
       "</table>\n",
       "</div>"
      ],
      "text/plain": [
       "                                         GUID  \\\n",
       "15241    F138A1CB-6029-45E5-845F-EAADEA6B3B83   \n",
       "2601490  29A88CCB-14D1-4483-BE22-19765F5DA632   \n",
       "5244     8EB48635-1B6A-4D69-94CC-07D7E7CA1A2C   \n",
       "\n",
       "                                  seller_GUID             seller_name  \\\n",
       "15241    4BDA1E37-3987-4119-990B-6DFAA949BC95      17P福利-膳魔師天鵝壺1000cc   \n",
       "2601490  6DBCD583-716B-4AFC-8CE5-A97A093482FF                 吉芙特有限公司   \n",
       "5244     6ABC7986-3907-4877-8C21-2ECBA33DD434  17P福利-【enegreen】充電式電暖蛋   \n",
       "\n",
       "         subtotal  is_returned              create_time  \\\n",
       "15241       299.0          1.0  2011-03-31 20:15:17.773   \n",
       "2601490     550.0          0.0  2015-12-14 17:24:24.087   \n",
       "5244       4990.0          0.0  2010-11-26 16:04:41.610   \n",
       "\n",
       "                           business_hour_guid  order_from_type     user_id  \\\n",
       "15241    B9E0A83A-7366-4CFA-8BFE-D04360E7BEA6              1.0  1111111111   \n",
       "2601490  0DE160A0-8180-48A8-8AC3-E0C2C45823B6              6.0  1111111114   \n",
       "5244     C7067EA3-23D8-4987-9E34-39AC21388051              1.0  1111111123   \n",
       "\n",
       "         installment  \n",
       "15241            0.0  \n",
       "2601490          0.0  \n",
       "5244             0.0  "
      ]
     },
     "execution_count": 13,
     "metadata": {},
     "output_type": "execute_result"
    }
   ],
   "source": [
    "order_new=order_new.sort_values(['user_id','create_time'])\n",
    "order_new.head(3)"
   ]
  },
  {
   "cell_type": "code",
   "execution_count": 15,
   "metadata": {},
   "outputs": [],
   "source": [
    "order_returned.to_csv(\"order_returned.csv\",index=False)\n",
    "order_new.to_csv(\"order_new.csv\",index=False)"
   ]
  },
  {
   "cell_type": "code",
   "execution_count": 24,
   "metadata": {},
   "outputs": [
    {
     "data": {
      "text/plain": [
       "count    499105.000000\n",
       "mean       1126.289148\n",
       "std        1630.086113\n",
       "min           1.000000\n",
       "25%         399.000000\n",
       "50%         744.000000\n",
       "75%        1199.000000\n",
       "max      117300.000000\n",
       "Name: subtotal, dtype: float64"
      ]
     },
     "execution_count": 24,
     "metadata": {},
     "output_type": "execute_result"
    }
   ],
   "source": [
    "#新客訂單金額\n",
    "order_new.subtotal.describe()"
   ]
  },
  {
   "cell_type": "code",
   "execution_count": 25,
   "metadata": {},
   "outputs": [
    {
     "data": {
      "text/plain": [
       "count    3.581751e+06\n",
       "mean     8.556358e+02\n",
       "std      1.144889e+03\n",
       "min      1.000000e+00\n",
       "25%      3.880000e+02\n",
       "50%      6.270000e+02\n",
       "75%      9.900000e+02\n",
       "max      2.845000e+05\n",
       "Name: subtotal, dtype: float64"
      ]
     },
     "execution_count": 25,
     "metadata": {},
     "output_type": "execute_result"
    }
   ],
   "source": [
    "#舊客訂單金額\n",
    "order_returned.subtotal.describe()"
   ]
  },
  {
   "cell_type": "code",
   "execution_count": 27,
   "metadata": {},
   "outputs": [],
   "source": [
    "#return_times: \n",
    "return_times=pd.DataFrame({'user_id':order_returned.user_id.value_counts().index,'purchase_times':order_returned.user_id.value_counts().values})"
   ]
  },
  {
   "cell_type": "code",
   "execution_count": 40,
   "metadata": {},
   "outputs": [],
   "source": [
    "discount_code=pd.read_csv(\"discount_code_0513v3.csv\")"
   ]
  },
  {
   "cell_type": "code",
   "execution_count": 41,
   "metadata": {},
   "outputs": [
    {
     "data": {
      "text/plain": [
       "(12897581, 10)"
      ]
     },
     "execution_count": 41,
     "metadata": {},
     "output_type": "execute_result"
    }
   ],
   "source": [
    "discount_code.shape"
   ]
  },
  {
   "cell_type": "code",
   "execution_count": 42,
   "metadata": {},
   "outputs": [],
   "source": [
    "discount_code[discount_code.use_id.isnull()==False].use_id = discount_code[discount_code.use_id.isnull()==False].use_id.astype('int')\n",
    "discount_code.use_id = discount_code.use_id.astype('str')"
   ]
  },
  {
   "cell_type": "code",
   "execution_count": 44,
   "metadata": {},
   "outputs": [],
   "source": [
    "discount_code.to_csv(\"discount_code_0513v3.csv\")"
   ]
  },
  {
   "cell_type": "code",
   "execution_count": null,
   "metadata": {},
   "outputs": [],
   "source": []
  }
 ],
 "metadata": {
  "kernelspec": {
   "display_name": "Python 3",
   "language": "python",
   "name": "python3"
  },
  "language_info": {
   "codemirror_mode": {
    "name": "ipython",
    "version": 3
   },
   "file_extension": ".py",
   "mimetype": "text/x-python",
   "name": "python",
   "nbconvert_exporter": "python",
   "pygments_lexer": "ipython3",
   "version": "3.6.8"
  }
 },
 "nbformat": 4,
 "nbformat_minor": 2
}
