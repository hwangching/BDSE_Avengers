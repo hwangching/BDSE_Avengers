{
 "cells": [
  {
   "cell_type": "code",
   "execution_count": 18,
   "metadata": {},
   "outputs": [
    {
     "name": "stderr",
     "output_type": "stream",
     "text": [
      "/usr/local/lib/python3.6/dist-packages/sklearn/ensemble/forest.py:245: FutureWarning: The default value of n_estimators will change from 10 in version 0.20 to 100 in 0.22.\n",
      "  \"10 in version 0.20 to 100 in 0.22.\", FutureWarning)\n"
     ]
    },
    {
     "data": {
      "text/plain": [
       "['models/model_columns.pkl']"
      ]
     },
     "execution_count": 18,
     "metadata": {},
     "output_type": "execute_result"
    }
   ],
   "source": [
    "import pandas as pd\n",
    "from sklearn.ensemble import RandomForestClassifier as rf\n",
    "from sklearn.externals import joblib\n",
    "df = pd.read_csv(\"~/datasets/titanic/titanic_train.csv\")\n",
    "\n",
    "df_ohe = pd.get_dummies(df[['Age', 'Sex','Embarked', 'Survived' ]], columns=['Sex','Embarked'], dummy_na=True)\n",
    "for col in df_ohe:\n",
    "    df_ohe[col].fillna(0, inplace=True)\n",
    "    \n",
    "dependent_variable = 'Survived'\n",
    "x = df_ohe[df_ohe.columns.difference([dependent_variable])]\n",
    "y = df_ohe[dependent_variable]\n",
    "clf = rf()\n",
    "clf.fit(x, y)\n",
    "\n",
    "joblib.dump(clf, 'models/model.pkl')\n",
    "model_columns = list(x.columns)\n",
    "joblib.dump(model_columns, 'models/model_columns.pkl')"
   ]
  },
  {
   "cell_type": "code",
   "execution_count": null,
   "metadata": {},
   "outputs": [],
   "source": []
  }
 ],
 "metadata": {
  "kernelspec": {
   "display_name": "Python 3",
   "language": "python",
   "name": "python3"
  },
  "language_info": {
   "codemirror_mode": {
    "name": "ipython",
    "version": 3
   },
   "file_extension": ".py",
   "mimetype": "text/x-python",
   "name": "python",
   "nbconvert_exporter": "python",
   "pygments_lexer": "ipython3",
   "version": "3.6.7"
  }
 },
 "nbformat": 4,
 "nbformat_minor": 2
}
